{
 "cells": [
  {
   "cell_type": "markdown",
   "id": "controlling-methodology",
   "metadata": {},
   "source": [
    "# The fermionic tweezer backend\n",
    "\n",
    "It implements four optical lattice sites with possibility of spin up and down. The first four wires are the spin up and the next four wires are the spin down.\n",
    "\n",
    " We have implemented:\n",
    " \n",
    " - `load` which adds a Fermion to the wire.\n",
    " - `hop` which lets Fermions hop.\n",
    " - `int` which describes interactions between fermions.\n",
    " - `phase` which is the chemical potential on the gate.\n",
    " - `measure` which reads out the occupation."
   ]
  },
  {
   "cell_type": "markdown",
   "id": "alike-flush",
   "metadata": {},
   "source": [
    "# Our own simulator code"
   ]
  },
  {
   "cell_type": "markdown",
   "id": "useful-senegal",
   "metadata": {},
   "source": [
    "The fermions can be directly mapped to spins via a local Jordan-Wigner transformation on site $s$\n",
    "\n",
    "$\\psi_{x,-1/2} = -\\sigma^{+} \\otimes \\mathbf{1} \\otimes \\mathbf{1} \\otimes \\mathbf{1}$\n",
    "\n",
    "$\\psi_{x,1/2} =  -\\sigma^z \\otimes \\sigma^{+} \\otimes \\mathbf{1} \\otimes \\mathbf{1}$\n",
    "\n",
    "and on site $y$ \n",
    "\n",
    "$\\psi_{y,-1/2} = -\\sigma^z \\otimes \\sigma^z \\otimes \\sigma^+ \\otimes \\mathbf{1}$\n",
    "\n",
    "$\\psi_{y,1/2} =  -\\sigma^z \\otimes \\sigma^z \\otimes \\sigma^z \\otimes \\sigma^{+} $\n",
    "\n",
    "We first create the Pauli matrices"
   ]
  },
  {
   "cell_type": "markdown",
   "id": "sustained-publisher",
   "metadata": {},
   "source": [
    "and then create the fermionic operators on the extend system"
   ]
  },
  {
   "cell_type": "code",
   "execution_count": 2,
   "id": "9892cacb",
   "metadata": {},
   "outputs": [],
   "source": [
    "import numpy as np\n",
    "from scipy.sparse.linalg import expm"
   ]
  },
  {
   "cell_type": "code",
   "execution_count": 3,
   "id": "collect-massage",
   "metadata": {},
   "outputs": [],
   "source": [
    "def nested_kronecker_product(a):\n",
    "    '''putting together a large operator from a list of matrices.\n",
    "    \n",
    "    Provide an example here.\n",
    "    \n",
    "    Args:\n",
    "        a (list): A list of matrices that can connected.\n",
    "\n",
    "    Returns:\n",
    "        array: An matrix that operates on the connected Hilbert space.\n",
    "    '''\n",
    "    if len(a) == 2:\n",
    "        return np.kron(a[0],a[1])\n",
    "    else:\n",
    "        return np.kron(a[0], nested_kronecker_product(a[1:]))"
   ]
  },
  {
   "cell_type": "code",
   "execution_count": 4,
   "id": "allied-gnome",
   "metadata": {},
   "outputs": [],
   "source": [
    "def jordan_wigner_transform(j, lattice_length):\n",
    "    '''\n",
    "    Builds up the fermionic operators in a 1D lattice\n",
    "    \n",
    "    Args:\n",
    "        j (int): site index\n",
    "        lattice_length: how many sites does the lattice have ?\n",
    "    \n",
    "    Returns:\n",
    "        psi_x: the field operator of creating a fermion on size j\n",
    "    '''\n",
    "    P = np.array([[0, 1], [0, 0]])\n",
    "    Z = np.array([[1, 0], [0, -1]])\n",
    "    I = np.eye(2)\n",
    "    operators = []\n",
    "    for k in range(j):\n",
    "        operators.append(Z)\n",
    "    operators.append(P)\n",
    "    for k in range(lattice_length-j-1):\n",
    "        operators.append(I)\n",
    "    return nested_kronecker_product(operators)"
   ]
  },
  {
   "cell_type": "markdown",
   "id": "historic-tract",
   "metadata": {},
   "source": [
    "we have basically four wires, which is the same as two lattice sites with spin $\\pm 1/2$"
   ]
  },
  {
   "cell_type": "code",
   "execution_count": 10,
   "id": "buried-liberia",
   "metadata": {},
   "outputs": [],
   "source": [
    "l = 2  # length of the tweezer array\n",
    "Nstates = 2 ** (2 * l)\n",
    "\n",
    "lattice_length = 2 * l\n",
    "loweringOp = []\n",
    "for i in range(lattice_length):\n",
    "    loweringOp.append(jordan_wigner_transform(i, lattice_length))\n",
    "    "
   ]
  },
  {
   "cell_type": "code",
   "execution_count": 11,
   "id": "breathing-tenant",
   "metadata": {},
   "outputs": [],
   "source": [
    "Nstates = 2**lattice_length"
   ]
  },
  {
   "cell_type": "code",
   "execution_count": 13,
   "id": "critical-concentration",
   "metadata": {
    "scrolled": true
   },
   "outputs": [
    {
     "name": "stdout",
     "output_type": "stream",
     "text": [
      "[1. 0. 0. 0. 0. 0. 0. 0. 0. 0. 0. 0. 0. 0. 0. 0.]\n",
      "[0. 0. 0. 0. 1. 0. 0. 0. 0. 0. 0. 0. 0. 0. 0. 0.]\n"
     ]
    }
   ],
   "source": [
    "emptySystem = np.zeros(Nstates)\n",
    "emptySystem[0] = 1\n",
    "print(emptySystem)\n",
    "\n",
    "# load one atom into site one\n",
    "psi0 = loweringOp[1].T.dot(emptySystem)\n",
    "print(psi0)"
   ]
  },
  {
   "cell_type": "markdown",
   "id": "a691ea25",
   "metadata": {},
   "source": [
    "measurement"
   ]
  },
  {
   "cell_type": "code",
   "execution_count": 14,
   "id": "757c0870",
   "metadata": {},
   "outputs": [],
   "source": [
    "number_operators = []\n",
    "for i in range(lattice_length):\n",
    "    number_operators.append(loweringOp[i].T.conj().dot(loweringOp[i]))"
   ]
  },
  {
   "cell_type": "code",
   "execution_count": 15,
   "id": "9eef7310",
   "metadata": {},
   "outputs": [
    {
     "name": "stdout",
     "output_type": "stream",
     "text": [
      "[4]\n",
      "[0. 0. 0. 0. 1. 0. 0. 0. 0. 0. 0. 0. 0. 0. 0. 0.]\n",
      "[0 1 0 0]\n"
     ]
    }
   ],
   "source": [
    "probs = np.abs(psi0)**2\n",
    "resultInd = np.random.choice(np.arange(Nstates), p=probs, size = 1)\n",
    "\n",
    "print(resultInd)\n",
    "\n",
    "result = np.zeros(Nstates)\n",
    "result[resultInd[0]] = 1\n",
    "print(result)\n",
    "\n",
    "measurements = np.zeros(lattice_length, dtype = int)\n",
    "for i in range(lattice_length):\n",
    "    observed = number_operators[i].dot(result)\n",
    "    observed = observed.dot(result)\n",
    "    measurements[i] = int(observed)\n",
    "    \n",
    "print(measurements)"
   ]
  },
  {
   "cell_type": "markdown",
   "id": "12cb55ca",
   "metadata": {},
   "source": [
    "## construct the hopping operator"
   ]
  },
  {
   "cell_type": "code",
   "execution_count": 19,
   "id": "614e0f9f",
   "metadata": {},
   "outputs": [
    {
     "name": "stdout",
     "output_type": "stream",
     "text": [
      "[1.+0.j 0.+0.j 0.+0.j 0.+0.j 0.+0.j 0.+0.j 0.+0.j 0.+0.j 0.+0.j 0.+0.j\n",
      " 0.+0.j 0.+0.j 0.+0.j 0.+0.j 0.+0.j 0.+0.j]\n",
      "[ 0.+0.j  0.+0.j  0.+0.j  0.+0.j  0.+0.j  0.+0.j  0.+0.j  0.+0.j  0.+0.j\n",
      "  0.+0.j  0.+0.j  0.+0.j -1.+0.j  0.+0.j  0.+0.j  0.+0.j]\n"
     ]
    }
   ],
   "source": [
    "emptySystem = 1j*np.zeros(Nstates)\n",
    "emptySystem[0] = 1\n",
    "print(emptySystem)\n",
    "\n",
    "# load two atoms into site one\n",
    "psi0 = loweringOp[0].T.dot(emptySystem)\n",
    "psi0 = loweringOp[1].T.dot(psi0)\n",
    "\n",
    "print(psi0)"
   ]
  },
  {
   "cell_type": "markdown",
   "id": "b665b733",
   "metadata": {},
   "source": [
    "couple two neighboring sites"
   ]
  },
  {
   "cell_type": "code",
   "execution_count": 20,
   "id": "0a7c1622",
   "metadata": {},
   "outputs": [],
   "source": [
    "theta = np.pi/2;\n",
    "latt_ind = [0, 1, 2, 3];\n",
    "\n",
    "# couple spin down sites with even indices\n",
    "Hhop = loweringOp[latt_ind[0]].T.dot(loweringOp[latt_ind[2]]) + loweringOp[latt_ind[2]].T.dot(loweringOp[latt_ind[0]])\n",
    "# couple spin up sites with odd indices\n",
    "Hhop += loweringOp[latt_ind[1]].T.dot(loweringOp[latt_ind[3]]) + loweringOp[latt_ind[3]].T.dot(loweringOp[latt_ind[1]])\n",
    "\n",
    "Uhop = expm(-1j*theta*Hhop); "
   ]
  },
  {
   "cell_type": "code",
   "execution_count": 21,
   "id": "8c07cc69",
   "metadata": {},
   "outputs": [
    {
     "data": {
      "text/plain": [
       "array([ 0.00000000e+00+0.00000000e+00j,  0.00000000e+00+0.00000000e+00j,\n",
       "        0.00000000e+00+0.00000000e+00j,  1.00000000e+00+0.00000000e+00j,\n",
       "        0.00000000e+00+0.00000000e+00j,  0.00000000e+00+0.00000000e+00j,\n",
       "        0.00000000e+00-1.14293026e-16j,  0.00000000e+00+0.00000000e+00j,\n",
       "        0.00000000e+00+0.00000000e+00j,  0.00000000e+00+1.14293026e-16j,\n",
       "        0.00000000e+00+0.00000000e+00j,  0.00000000e+00+0.00000000e+00j,\n",
       "       -5.43731249e-17+0.00000000e+00j,  0.00000000e+00+0.00000000e+00j,\n",
       "        0.00000000e+00+0.00000000e+00j,  0.00000000e+00+0.00000000e+00j])"
      ]
     },
     "execution_count": 21,
     "metadata": {},
     "output_type": "execute_result"
    }
   ],
   "source": [
    "psi = np.dot(Uhop,psi0)\n",
    "psi"
   ]
  },
  {
   "cell_type": "markdown",
   "id": "46d9353a",
   "metadata": {},
   "source": [
    "and measure"
   ]
  },
  {
   "cell_type": "code",
   "execution_count": 23,
   "id": "47e82baf",
   "metadata": {},
   "outputs": [
    {
     "data": {
      "text/plain": [
       "array([[0, 0, 1, 1],\n",
       "       [0, 0, 1, 1],\n",
       "       [0, 0, 1, 1],\n",
       "       [0, 0, 1, 1],\n",
       "       [0, 0, 1, 1]])"
      ]
     },
     "execution_count": 23,
     "metadata": {},
     "output_type": "execute_result"
    }
   ],
   "source": [
    "measurement_indices = [0,1,2,3]\n",
    "n_shots = 5\n",
    "probs = np.abs(psi)**2\n",
    "resultInd = np.random.choice(np.arange(Nstates), p=probs, size = n_shots)\n",
    "\n",
    "measurements = np.zeros((n_shots, len(measurement_indices)), dtype = int)\n",
    "for jj in range(n_shots):\n",
    "    result = np.zeros(Nstates)\n",
    "    result[resultInd[jj]] = 1\n",
    "\n",
    "    for ii, ind in enumerate(measurement_indices):\n",
    "        observed = number_operators[ind].dot(result)\n",
    "        observed = observed.dot(result)\n",
    "        measurements[jj,ii] = int(observed)\n",
    "        \n",
    "measurements"
   ]
  },
  {
   "cell_type": "markdown",
   "id": "d8617050",
   "metadata": {},
   "source": [
    "## interactions"
   ]
  },
  {
   "cell_type": "code",
   "execution_count": 24,
   "id": "8a3c87de",
   "metadata": {},
   "outputs": [
    {
     "name": "stdout",
     "output_type": "stream",
     "text": [
      "[1.+0.j 0.+0.j 0.+0.j 0.+0.j 0.+0.j 0.+0.j 0.+0.j 0.+0.j 0.+0.j 0.+0.j\n",
      " 0.+0.j 0.+0.j 0.+0.j 0.+0.j 0.+0.j 0.+0.j]\n",
      "[ 0.+0.j  0.+0.j  0.+0.j  0.+0.j  0.+0.j  0.+0.j  0.+0.j  0.+0.j  0.+0.j\n",
      "  0.+0.j  0.+0.j  0.+0.j -1.+0.j  0.+0.j  0.+0.j  0.+0.j]\n"
     ]
    }
   ],
   "source": [
    "emptySystem = 1j*np.zeros(Nstates)\n",
    "emptySystem[0] = 1\n",
    "print(emptySystem)\n",
    "\n",
    "# load two atoms into site one\n",
    "psi0 = loweringOp[0].T.dot(emptySystem)\n",
    "psi0 = loweringOp[1].T.dot(psi0)\n",
    "\n",
    "print(psi0)"
   ]
  },
  {
   "cell_type": "code",
   "execution_count": 30,
   "id": "6c99fd1b",
   "metadata": {},
   "outputs": [],
   "source": [
    "number_operators = []\n",
    "for i in range(lattice_length):\n",
    "    number_operators.append(loweringOp[i].T.conj().dot(loweringOp[i]))\n",
    "\n",
    "# interaction Hamiltonian\n",
    "Hint = 0 * number_operators[0]\n",
    "for ii in range(l):\n",
    "    spindown_ind = 2*ii;\n",
    "    spinup_ind = 2*ii+1;\n",
    "    Hint += number_operators[spindown_ind].dot(number_operators[spinup_ind])"
   ]
  },
  {
   "cell_type": "code",
   "execution_count": 31,
   "id": "a1447f82",
   "metadata": {
    "scrolled": true
   },
   "outputs": [
    {
     "data": {
      "text/plain": [
       "array([[0., 0., 0., 0., 0., 0., 0., 0., 0., 0., 0., 0., 0., 0., 0., 0.],\n",
       "       [0., 1., 0., 0., 0., 0., 0., 0., 0., 0., 0., 0., 0., 0., 0., 0.],\n",
       "       [0., 0., 1., 0., 0., 0., 0., 0., 0., 0., 0., 0., 0., 0., 0., 0.],\n",
       "       [0., 0., 0., 2., 0., 0., 0., 0., 0., 0., 0., 0., 0., 0., 0., 0.],\n",
       "       [0., 0., 0., 0., 1., 0., 0., 0., 0., 0., 0., 0., 0., 0., 0., 0.],\n",
       "       [0., 0., 0., 0., 0., 2., 0., 0., 0., 0., 0., 0., 0., 0., 0., 0.],\n",
       "       [0., 0., 0., 0., 0., 0., 2., 0., 0., 0., 0., 0., 0., 0., 0., 0.],\n",
       "       [0., 0., 0., 0., 0., 0., 0., 3., 0., 0., 0., 0., 0., 0., 0., 0.],\n",
       "       [0., 0., 0., 0., 0., 0., 0., 0., 1., 0., 0., 0., 0., 0., 0., 0.],\n",
       "       [0., 0., 0., 0., 0., 0., 0., 0., 0., 2., 0., 0., 0., 0., 0., 0.],\n",
       "       [0., 0., 0., 0., 0., 0., 0., 0., 0., 0., 2., 0., 0., 0., 0., 0.],\n",
       "       [0., 0., 0., 0., 0., 0., 0., 0., 0., 0., 0., 3., 0., 0., 0., 0.],\n",
       "       [0., 0., 0., 0., 0., 0., 0., 0., 0., 0., 0., 0., 2., 0., 0., 0.],\n",
       "       [0., 0., 0., 0., 0., 0., 0., 0., 0., 0., 0., 0., 0., 3., 0., 0.],\n",
       "       [0., 0., 0., 0., 0., 0., 0., 0., 0., 0., 0., 0., 0., 0., 3., 0.],\n",
       "       [0., 0., 0., 0., 0., 0., 0., 0., 0., 0., 0., 0., 0., 0., 0., 4.]])"
      ]
     },
     "execution_count": 31,
     "metadata": {},
     "output_type": "execute_result"
    }
   ],
   "source": [
    "np.array(number_operators).sum(axis=0)"
   ]
  },
  {
   "cell_type": "markdown",
   "id": "1144db09",
   "metadata": {},
   "source": [
    "why do I have six states with two atoms ?"
   ]
  },
  {
   "cell_type": "code",
   "execution_count": 32,
   "id": "aeb567cd",
   "metadata": {},
   "outputs": [
    {
     "data": {
      "text/plain": [
       "array([[0., 0., 0., 0., 0., 0., 0., 0., 0., 0., 0., 0., 0., 0., 0., 0.],\n",
       "       [0., 0., 0., 0., 0., 0., 0., 0., 0., 0., 0., 0., 0., 0., 0., 0.],\n",
       "       [0., 0., 0., 0., 0., 0., 0., 0., 0., 0., 0., 0., 0., 0., 0., 0.],\n",
       "       [0., 0., 0., 1., 0., 0., 0., 0., 0., 0., 0., 0., 0., 0., 0., 0.],\n",
       "       [0., 0., 0., 0., 0., 0., 0., 0., 0., 0., 0., 0., 0., 0., 0., 0.],\n",
       "       [0., 0., 0., 0., 0., 0., 0., 0., 0., 0., 0., 0., 0., 0., 0., 0.],\n",
       "       [0., 0., 0., 0., 0., 0., 0., 0., 0., 0., 0., 0., 0., 0., 0., 0.],\n",
       "       [0., 0., 0., 0., 0., 0., 0., 1., 0., 0., 0., 0., 0., 0., 0., 0.],\n",
       "       [0., 0., 0., 0., 0., 0., 0., 0., 0., 0., 0., 0., 0., 0., 0., 0.],\n",
       "       [0., 0., 0., 0., 0., 0., 0., 0., 0., 0., 0., 0., 0., 0., 0., 0.],\n",
       "       [0., 0., 0., 0., 0., 0., 0., 0., 0., 0., 0., 0., 0., 0., 0., 0.],\n",
       "       [0., 0., 0., 0., 0., 0., 0., 0., 0., 0., 0., 1., 0., 0., 0., 0.],\n",
       "       [0., 0., 0., 0., 0., 0., 0., 0., 0., 0., 0., 0., 1., 0., 0., 0.],\n",
       "       [0., 0., 0., 0., 0., 0., 0., 0., 0., 0., 0., 0., 0., 1., 0., 0.],\n",
       "       [0., 0., 0., 0., 0., 0., 0., 0., 0., 0., 0., 0., 0., 0., 1., 0.],\n",
       "       [0., 0., 0., 0., 0., 0., 0., 0., 0., 0., 0., 0., 0., 0., 0., 2.]])"
      ]
     },
     "execution_count": 32,
     "metadata": {},
     "output_type": "execute_result"
    }
   ],
   "source": [
    "Hint"
   ]
  },
  {
   "cell_type": "markdown",
   "id": "f1050cc6",
   "metadata": {},
   "source": [
    "why would there ever be a two ?"
   ]
  },
  {
   "cell_type": "code",
   "execution_count": null,
   "id": "b523f612",
   "metadata": {},
   "outputs": [],
   "source": []
  }
 ],
 "metadata": {
  "kernelspec": {
   "display_name": "Python 3",
   "language": "python",
   "name": "python3"
  },
  "language_info": {
   "codemirror_mode": {
    "name": "ipython",
    "version": 3
   },
   "file_extension": ".py",
   "mimetype": "text/x-python",
   "name": "python",
   "nbconvert_exporter": "python",
   "pygments_lexer": "ipython3",
   "version": "3.9.4"
  }
 },
 "nbformat": 4,
 "nbformat_minor": 5
}
