{
 "cells": [
  {
   "cell_type": "markdown",
   "id": "warming-married",
   "metadata": {},
   "source": [
    "# Cold atom workflow demonstration\n",
    "\n",
    "In cold atoms, we do not necessarily work with qubits. As an example, we implemented here the operation on a single qudit as it is implemented in Heidelberg University. In this notebook we present the communication with our API. The communication with the backend happens through the four url\n",
    "\n",
    "1. '.../shots/get_config/' \n",
    "2. '.../shots/post_job/'\n",
    "3. '.../shots/get_job_status/'\n",
    "4. '.../shots/get_job_result/'"
   ]
  },
  {
   "cell_type": "markdown",
   "id": "sexual-debate",
   "metadata": {},
   "source": [
    "# get config\n",
    "\n",
    "Getting the description of the simulator/backend as a json file\n",
    "\n",
    "* user login  at '.../get_config'\n",
    "* json file with simulator/backend description "
   ]
  },
  {
   "cell_type": "code",
   "execution_count": 1,
   "id": "confirmed-mayor",
   "metadata": {},
   "outputs": [],
   "source": [
    "import requests\n",
    "import json\n",
    "from pprint import pprint"
   ]
  },
  {
   "cell_type": "markdown",
   "id": "subtle-armenia",
   "metadata": {},
   "source": [
    "This imports the `credentials.py` file you received from us."
   ]
  },
  {
   "cell_type": "code",
   "execution_count": 2,
   "id": "egyptian-strike",
   "metadata": {},
   "outputs": [],
   "source": [
    "#from heroku_credentials import username, password\n",
    "from credentials import username, password"
   ]
  },
  {
   "cell_type": "code",
   "execution_count": 3,
   "id": "japanese-malawi",
   "metadata": {},
   "outputs": [],
   "source": [
    "#url_prefix=\"http://qsimsim.synqs.org/shots/\" # the cloud back-end\n",
    "url_prefix = 'http://localhost:8000/shots/' # the back-end for local testing"
   ]
  },
  {
   "cell_type": "code",
   "execution_count": 4,
   "id": "racial-vector",
   "metadata": {},
   "outputs": [
    {
     "name": "stdout",
     "output_type": "stream",
     "text": [
      "http://localhost:8000/shots/get_config/\n",
      "('{\"backend_name\": \"synqs_single_qudit_simulator\", \"cold_atom_type\": \"spin\", '\n",
      " '\"backend_version\": \"0.0.2\", \"n_qubits\": 1, \"atomic_species\": [\"na\"], '\n",
      " '\"basis_gates\": [\"rLx\", \"rLz\", \"rLz2\"], \"gates\": [{\"name\": \"rLz\", '\n",
      " '\"parameters\": [\"delta\"], \"qasm_def\": \"gate rLz(delta) {}\", \"coupling_map\": '\n",
      " '[[0], [1], [2], [3], [4]], \"description\": \"Evolution under the Z gate\"}, '\n",
      " '{\"name\": \"rLz2\", \"parameters\": [\"chi\"], \"qasm_def\": \"gate rLz2(chi) {}\", '\n",
      " '\"coupling_map\": [[0], [1], [2], [3], [4]], \"description\": \"Evolution under '\n",
      " 'Lz2\"}, {\"name\": \"rLx\", \"parameters\": [\"omega\"], \"qasm_def\": \"gate rx(omega) '\n",
      " '{}\", \"coupling_map\": [[0], [1], [2], [3], [4]], \"description\": \"Evolution '\n",
      " 'under Lx\"}], \"supported_instructions\": [\"rLx\", \"rLz\", \"rLz2\", \"measure\", '\n",
      " '\"barrier\", \"load\"], \"local\": false, \"simulator\": true, \"conditional\": false, '\n",
      " '\"open_pulse\": false, \"memory\": true, \"max_shots\": 1000, \"coupling_map\": '\n",
      " '[[]], \"max_experiments\": 15, \"description\": \"Setup of a cold atomic gas '\n",
      " 'experiment with qudits.\", \"url\": \"https://qsimsim.synqs.org/shots/\", '\n",
      " '\"credits_required\": false, \"display_name\": \"SingleQudit\"}')\n"
     ]
    }
   ],
   "source": [
    "url= url_prefix + \"get_config/\"\n",
    "print(url)\n",
    "\n",
    "r = requests.get(url,params={'username': username,'password':password})\n",
    "\n",
    "pprint(r.text)"
   ]
  },
  {
   "cell_type": "markdown",
   "id": "unlikely-photographer",
   "metadata": {},
   "source": [
    "# The single qudit backend\n",
    "\n",
    "The single qudit Hilbert space is $|l, m\\rangle$ with $l = 2$ and $m = -2, -1, 0, 1, ,2$ being an eigenstate of the total angular momentum\n",
    "operator and the z-component\n",
    "\n",
    "\\begin{align}\n",
    "    L^2 |l,m\\rangle &= l (l+1) |l,m \\rangle \\notag  \\\\\n",
    "    L_z |l, m\\rangle &= m |l, m\\rangle \\notag\n",
    "\\end{align}\n",
    "\n",
    "The Hamiltonian which controls the qudit is \n",
    "\n",
    "\\begin{align}\n",
    "    H = \\chi L_z^2 + \\Delta L_z + \\Omega L_x\n",
    "\\end{align}\n",
    "where the coupling constants $\\chi$, $\\Delta$ and $\\Omega$ can be switched on and off individually.\n",
    "\n",
    "We us the above Hamiltonian to generate the following three gates\n",
    "\n",
    "* Rotation around the z-axis \n",
    "    \\begin{align}\n",
    "        rLz = \\exp\\{  i (\\Delta t) L_z \\} \n",
    "    \\end{align}\n",
    "* Rotation around the x-axis \n",
    "    \\begin{align}\n",
    "        rLx = \\exp\\{ i (\\Omega t) L_x \\} \n",
    "    \\end{align} \n",
    "* Squeezing operation \n",
    "    \\begin{align}\n",
    "        rLz2 = \\exp\\{ i (\\chi  t) L^2_z \\} \n",
    "    \\end{align}"
   ]
  },
  {
   "cell_type": "markdown",
   "id": "satisfied-facing",
   "metadata": {},
   "source": [
    "## x rotation\n",
    "\n",
    "This rotates the qudit around the x axis to put it into a superposition of z states. We start with a $\\pi$ rotation i.e\n",
    "    \\begin{align}\n",
    "        rLx = \\exp\\{ i \\pi L_x \\} \n",
    "    \\end{align} "
   ]
  },
  {
   "cell_type": "code",
   "execution_count": 5,
   "id": "asian-demographic",
   "metadata": {},
   "outputs": [],
   "source": [
    "import numpy as np\n",
    "import matplotlib.pyplot as plt"
   ]
  },
  {
   "cell_type": "code",
   "execution_count": 6,
   "id": "processed-bible",
   "metadata": {},
   "outputs": [],
   "source": [
    "job_payload = {\n",
    "    'experiment_0': {\n",
    "    'instructions': [\n",
    "        ('rLx', [0], [np.pi]),\n",
    "        ('measure', [0], []),\n",
    "        ],\n",
    "        'num_wires': 1,\n",
    "        'shots': 4,\n",
    "        'seed': 12345\n",
    "    },\n",
    "}"
   ]
  },
  {
   "cell_type": "markdown",
   "id": "furnished-raise",
   "metadata": {},
   "source": [
    "Send the job to the server"
   ]
  },
  {
   "cell_type": "code",
   "execution_count": 7,
   "id": "antique-bridal",
   "metadata": {},
   "outputs": [
    {
     "name": "stdout",
     "output_type": "stream",
     "text": [
      "{\"job_id\": 56, \"status\": \"INITIALIZING\", \"detail\": \"Got your json.\"}\n"
     ]
    }
   ],
   "source": [
    "url= url_prefix + \"post_job/\" \n",
    "\n",
    "job_response = requests.post(url, data={'json':json.dumps(job_payload),'username': username,'password':password})\n",
    "job_id = (job_response.json())['job_id']\n",
    "print(job_response.text)"
   ]
  },
  {
   "cell_type": "markdown",
   "id": "smoking-jungle",
   "metadata": {},
   "source": [
    "Test for completion"
   ]
  },
  {
   "cell_type": "code",
   "execution_count": 8,
   "id": "incoming-polymer",
   "metadata": {
    "tags": []
   },
   "outputs": [
    {
     "name": "stdout",
     "output_type": "stream",
     "text": [
      "{\"job_id\": 56, \"status\": \"DONE\", \"detail\": \"Got your json.; Passed json sanity check; Compilation done. Shots sent to solver\"}\n"
     ]
    }
   ],
   "source": [
    "status_payload = {'job_id': job_id}\n",
    "\n",
    "url= url_prefix + \"get_job_status/\" \n",
    "\n",
    "status_response = requests.get(url, params={'json':json.dumps(status_payload),'username': username,'password':password})\n",
    "\n",
    "print(status_response.text)"
   ]
  },
  {
   "cell_type": "markdown",
   "id": "recognized-weather",
   "metadata": {},
   "source": [
    "Obtaining results"
   ]
  },
  {
   "cell_type": "code",
   "execution_count": 9,
   "id": "rapid-actor",
   "metadata": {},
   "outputs": [
    {
     "name": "stdout",
     "output_type": "stream",
     "text": [
      "{\"backend_name\": \"synqs_single_qudit_simulator\", \"backend_version\": \"0.0.2\", \"job_id\": 56, \"qobj_id\": null, \"success\": true, \"status\": \"finished\", \"header\": {}, \"results\": [{\"header\": {\"name\": \"SingleQudit\", \"extra metadata\": \"None\"}, \"shots\": 4, \"success\": true, \"data\": {\"memory\": [\"1\", \"1\", \"1\", \"1\"]}}]}\n"
     ]
    }
   ],
   "source": [
    "result_payload = {'job_id': job_id}\n",
    "url= url_prefix + \"get_job_result/\" \n",
    "\n",
    "result_response = requests.get(url, params={'json':json.dumps(result_payload),'username': username,'password':password})\n",
    "\n",
    "print(result_response.text)"
   ]
  },
  {
   "cell_type": "markdown",
   "id": "reported-mainland",
   "metadata": {},
   "source": [
    "the result of the calculation is then"
   ]
  },
  {
   "cell_type": "code",
   "execution_count": 10,
   "id": "fitting-structure",
   "metadata": {},
   "outputs": [
    {
     "name": "stdout",
     "output_type": "stream",
     "text": [
      "['1', '1', '1', '1']\n"
     ]
    }
   ],
   "source": [
    "res_dict = json.loads(result_response.text)\n",
    "measurements = res_dict[\"results\"][0]['data']['memory']\n",
    "print(measurements)"
   ]
  },
  {
   "cell_type": "markdown",
   "id": "b93f409e",
   "metadata": {},
   "source": [
    "# Barrier gate"
   ]
  },
  {
   "cell_type": "code",
   "execution_count": 11,
   "id": "c73fa53f",
   "metadata": {},
   "outputs": [],
   "source": [
    "job_payload = {\n",
    "    'experiment_0': {\n",
    "    'instructions': [\n",
    "        ('rLx', [0], [np.pi]),\n",
    "        ('barrier', [], []),\n",
    "        ('measure', [0], []),\n",
    "        ],\n",
    "        'num_wires': 1,\n",
    "        'shots': 4\n",
    "    },\n",
    "}"
   ]
  },
  {
   "cell_type": "markdown",
   "id": "fcc15116",
   "metadata": {},
   "source": [
    "Send the job to the server"
   ]
  },
  {
   "cell_type": "code",
   "execution_count": 12,
   "id": "e53e3950",
   "metadata": {},
   "outputs": [
    {
     "name": "stdout",
     "output_type": "stream",
     "text": [
      "{\"job_id\": 57, \"status\": \"INITIALIZING\", \"detail\": \"Got your json.\"}\n"
     ]
    }
   ],
   "source": [
    "url= url_prefix + \"post_job/\" \n",
    "\n",
    "job_response = requests.post(url, data={'json':json.dumps(job_payload),'username': username,'password':password})\n",
    "job_id = (job_response.json())['job_id']\n",
    "print(job_response.text)"
   ]
  },
  {
   "cell_type": "markdown",
   "id": "50d5ada8",
   "metadata": {},
   "source": [
    "Test for completion"
   ]
  },
  {
   "cell_type": "code",
   "execution_count": 13,
   "id": "5a5e9b35",
   "metadata": {
    "tags": []
   },
   "outputs": [
    {
     "name": "stdout",
     "output_type": "stream",
     "text": [
      "{\"job_id\": 57, \"status\": \"DONE\", \"detail\": \"Got your json.; Passed json sanity check; Compilation done. Shots sent to solver\"}\n"
     ]
    }
   ],
   "source": [
    "status_payload = {'job_id': job_id}\n",
    "\n",
    "url= url_prefix + \"get_job_status/\" \n",
    "\n",
    "status_response = requests.get(url, params={'json':json.dumps(status_payload),'username': username,'password':password})\n",
    "\n",
    "print(status_response.text)"
   ]
  },
  {
   "cell_type": "markdown",
   "id": "3d7d657f",
   "metadata": {},
   "source": [
    "Obtaining results"
   ]
  },
  {
   "cell_type": "code",
   "execution_count": 14,
   "id": "33b5b90b",
   "metadata": {},
   "outputs": [
    {
     "name": "stdout",
     "output_type": "stream",
     "text": [
      "{\"backend_name\": \"synqs_single_qudit_simulator\", \"backend_version\": \"0.0.2\", \"job_id\": 57, \"qobj_id\": null, \"success\": true, \"status\": \"finished\", \"header\": {}, \"results\": [{\"header\": {\"name\": \"SingleQudit\", \"extra metadata\": \"None\"}, \"shots\": 4, \"success\": true, \"data\": {\"memory\": [\"1\", \"1\", \"1\", \"1\"]}}]}\n"
     ]
    }
   ],
   "source": [
    "result_payload = {'job_id': job_id}\n",
    "url= url_prefix + \"get_job_result/\" \n",
    "\n",
    "result_response = requests.get(url, params={'json':json.dumps(result_payload),'username': username,'password':password})\n",
    "\n",
    "print(result_response.text)"
   ]
  },
  {
   "cell_type": "markdown",
   "id": "5304587e",
   "metadata": {},
   "source": [
    "the result of the calculation is then"
   ]
  },
  {
   "cell_type": "code",
   "execution_count": 15,
   "id": "26b28e81",
   "metadata": {},
   "outputs": [
    {
     "name": "stdout",
     "output_type": "stream",
     "text": [
      "['1', '1', '1', '1']\n"
     ]
    }
   ],
   "source": [
    "res_dict = json.loads(result_response.text)\n",
    "measurements = res_dict[\"results\"][0]['data']['memory']\n",
    "print(measurements)"
   ]
  },
  {
   "cell_type": "markdown",
   "id": "angry-shore",
   "metadata": {},
   "source": [
    "## Rabi oscillation\n",
    "\n",
    "The following section creates a Rabi-oscillation"
   ]
  },
  {
   "cell_type": "markdown",
   "id": "disturbed-disorder",
   "metadata": {},
   "source": [
    "Create several jobs determined by the phase  "
   ]
  },
  {
   "cell_type": "code",
   "execution_count": 16,
   "id": "noble-valuable",
   "metadata": {},
   "outputs": [
    {
     "name": "stdout",
     "output_type": "stream",
     "text": [
      "{'experiment_0': {'instructions': [('rLx', [0], [0.0]), ('measure', [0], [])],\n",
      "                  'num_wires': 1,\n",
      "                  'shots': 4},\n",
      " 'experiment_1': {'instructions': [('rLx', [0], [0.6283185307179586]),\n",
      "                                   ('measure', [0], [])],\n",
      "                  'num_wires': 1,\n",
      "                  'shots': 4},\n",
      " 'experiment_10': {'instructions': [('rLx', [0], [6.283185307179586]),\n",
      "                                    ('measure', [0], [])],\n",
      "                   'num_wires': 1,\n",
      "                   'shots': 4},\n",
      " 'experiment_2': {'instructions': [('rLx', [0], [1.2566370614359172]),\n",
      "                                   ('measure', [0], [])],\n",
      "                  'num_wires': 1,\n",
      "                  'shots': 4},\n",
      " 'experiment_3': {'instructions': [('rLx', [0], [1.8849555921538759]),\n",
      "                                   ('measure', [0], [])],\n",
      "                  'num_wires': 1,\n",
      "                  'shots': 4},\n",
      " 'experiment_4': {'instructions': [('rLx', [0], [2.5132741228718345]),\n",
      "                                   ('measure', [0], [])],\n",
      "                  'num_wires': 1,\n",
      "                  'shots': 4},\n",
      " 'experiment_5': {'instructions': [('rLx', [0], [3.141592653589793]),\n",
      "                                   ('measure', [0], [])],\n",
      "                  'num_wires': 1,\n",
      "                  'shots': 4},\n",
      " 'experiment_6': {'instructions': [('rLx', [0], [3.7699111843077517]),\n",
      "                                   ('measure', [0], [])],\n",
      "                  'num_wires': 1,\n",
      "                  'shots': 4},\n",
      " 'experiment_7': {'instructions': [('rLx', [0], [4.39822971502571]),\n",
      "                                   ('measure', [0], [])],\n",
      "                  'num_wires': 1,\n",
      "                  'shots': 4},\n",
      " 'experiment_8': {'instructions': [('rLx', [0], [5.026548245743669]),\n",
      "                                   ('measure', [0], [])],\n",
      "                  'num_wires': 1,\n",
      "                  'shots': 4},\n",
      " 'experiment_9': {'instructions': [('rLx', [0], [5.654866776461628]),\n",
      "                                   ('measure', [0], [])],\n",
      "                  'num_wires': 1,\n",
      "                  'shots': 4}}\n"
     ]
    }
   ],
   "source": [
    "n_phases = 11 # number of phases we would like to investigate\n",
    "phases = np.linspace(0,2*np.pi,n_phases) #array of phases\n",
    "job_payload = {}\n",
    "\n",
    "for ii in range(n_phases):\n",
    "    exp_str = 'experiment_' + str(ii)\n",
    "    dummy_exp = {\n",
    "        'instructions': [\n",
    "            ('rLx', [0], [phases[ii]]),\n",
    "            ('measure', [0], []),\n",
    "            ],\n",
    "            'num_wires': 1,\n",
    "            'shots': 4\n",
    "    }\n",
    "    job_payload[exp_str] = dummy_exp\n",
    "pprint(job_payload)"
   ]
  },
  {
   "cell_type": "markdown",
   "id": "speaking-insurance",
   "metadata": {},
   "source": [
    "Send the job to the server via request.post(...)"
   ]
  },
  {
   "cell_type": "code",
   "execution_count": 17,
   "id": "balanced-wallace",
   "metadata": {},
   "outputs": [
    {
     "name": "stdout",
     "output_type": "stream",
     "text": [
      "{\"job_id\": 58, \"status\": \"INITIALIZING\", \"detail\": \"Got your json.\"}\n"
     ]
    }
   ],
   "source": [
    "url= url_prefix + \"post_job/\"\n",
    "\n",
    "job_response = requests.post(url, data={'json':json.dumps(job_payload),'username': username,'password':password})\n",
    "job_id = (job_response.json())['job_id']\n",
    "print(job_response.text)"
   ]
  },
  {
   "cell_type": "markdown",
   "id": "raised-beast",
   "metadata": {},
   "source": [
    "Test if the job is completed"
   ]
  },
  {
   "cell_type": "code",
   "execution_count": 18,
   "id": "representative-process",
   "metadata": {},
   "outputs": [
    {
     "name": "stdout",
     "output_type": "stream",
     "text": [
      "{\"job_id\": 58, \"status\": \"DONE\", \"detail\": \"Got your json.; Passed json sanity check; Compilation done. Shots sent to solver\"}\n"
     ]
    }
   ],
   "source": [
    "status_payload = {'job_id': job_id}\n",
    "\n",
    "url= url_prefix + \"get_job_status/\"\n",
    "status_response = requests.get(url, params={'json':json.dumps(status_payload),'username': username,'password':password})\n",
    "\n",
    "print(status_response.text)"
   ]
  },
  {
   "cell_type": "markdown",
   "id": "demographic-breeding",
   "metadata": {},
   "source": [
    "and obtain the results via requests.get(...)"
   ]
  },
  {
   "cell_type": "code",
   "execution_count": 19,
   "id": "cutting-fellow",
   "metadata": {},
   "outputs": [
    {
     "name": "stdout",
     "output_type": "stream",
     "text": [
      "{'backend_name': 'synqs_single_qudit_simulator',\n",
      " 'backend_version': '0.0.2',\n",
      " 'header': {},\n",
      " 'job_id': 58,\n",
      " 'qobj_id': None,\n",
      " 'results': [{'data': {'memory': ['0', '0', '0', '0']},\n",
      "              'header': {'extra metadata': 'None', 'name': 'SingleQudit'},\n",
      "              'shots': 4,\n",
      "              'success': True},\n",
      "             {'data': {'memory': ['0', '0', '0', '0']},\n",
      "              'header': {'extra metadata': 'None', 'name': 'SingleQudit'},\n",
      "              'shots': 4,\n",
      "              'success': True},\n",
      "             {'data': {'memory': ['1', '1', '1', '1']},\n",
      "              'header': {'extra metadata': 'None', 'name': 'SingleQudit'},\n",
      "              'shots': 4,\n",
      "              'success': True},\n",
      "             {'data': {'memory': ['1', '1', '1', '0']},\n",
      "              'header': {'extra metadata': 'None', 'name': 'SingleQudit'},\n",
      "              'shots': 4,\n",
      "              'success': True},\n",
      "             {'data': {'memory': ['1', '1', '1', '1']},\n",
      "              'header': {'extra metadata': 'None', 'name': 'SingleQudit'},\n",
      "              'shots': 4,\n",
      "              'success': True},\n",
      "             {'data': {'memory': ['1', '1', '1', '1']},\n",
      "              'header': {'extra metadata': 'None', 'name': 'SingleQudit'},\n",
      "              'shots': 4,\n",
      "              'success': True},\n",
      "             {'data': {'memory': ['1', '0', '1', '1']},\n",
      "              'header': {'extra metadata': 'None', 'name': 'SingleQudit'},\n",
      "              'shots': 4,\n",
      "              'success': True},\n",
      "             {'data': {'memory': ['1', '0', '1', '1']},\n",
      "              'header': {'extra metadata': 'None', 'name': 'SingleQudit'},\n",
      "              'shots': 4,\n",
      "              'success': True},\n",
      "             {'data': {'memory': ['1', '0', '1', '0']},\n",
      "              'header': {'extra metadata': 'None', 'name': 'SingleQudit'},\n",
      "              'shots': 4,\n",
      "              'success': True},\n",
      "             {'data': {'memory': ['0', '0', '0', '0']},\n",
      "              'header': {'extra metadata': 'None', 'name': 'SingleQudit'},\n",
      "              'shots': 4,\n",
      "              'success': True},\n",
      "             {'data': {'memory': ['0', '0', '0', '0']},\n",
      "              'header': {'extra metadata': 'None', 'name': 'SingleQudit'},\n",
      "              'shots': 4,\n",
      "              'success': True}],\n",
      " 'status': 'finished',\n",
      " 'success': True}\n"
     ]
    }
   ],
   "source": [
    "result_payload = {'job_id': job_id}\n",
    "\n",
    "url= url_prefix + \"get_job_result/\"\n",
    "result_response = requests.get(url, params={'json':json.dumps(result_payload),'username': username,'password':password})\n",
    "results_dict = json.loads(result_response.text)\n",
    "pprint(results_dict)"
   ]
  },
  {
   "cell_type": "markdown",
   "id": "increasing-effectiveness",
   "metadata": {},
   "source": [
    "The result of the calculation"
   ]
  },
  {
   "cell_type": "code",
   "execution_count": 20,
   "id": "7858ced5",
   "metadata": {},
   "outputs": [],
   "source": [
    "measurements = []\n",
    "for res in results_dict[\"results\"]:\n",
    "    shots = np.array(res['data']['memory'])\n",
    "    shots = [shot.split(' ') for shot in shots]\n",
    "    #print(shots.shape)\n",
    "    for ii, el in enumerate(shots):\n",
    "        shots[ii] = [int(meas) for meas in el][0]\n",
    "    measurements.append(shots)\n",
    "    \n",
    "measurements = np.array(measurements)"
   ]
  },
  {
   "cell_type": "code",
   "execution_count": 21,
   "id": "public-familiar",
   "metadata": {},
   "outputs": [
    {
     "data": {
      "text/plain": [
       "Text(0.5, 0, '$\\\\phi_z$')"
      ]
     },
     "execution_count": 21,
     "metadata": {},
     "output_type": "execute_result"
    },
    {
     "data": {
      "image/png": "[encoded data removed]",
      "text/plain": [
       "<Figure size 432x288 with 1 Axes>"
      ]
     },
     "metadata": {
      "needs_background": "light"
     },
     "output_type": "display_data"
    }
   ],
   "source": [
    "f, ax = plt.subplots()\n",
    "ax.plot(phases, measurements, 'ro', alpha = 0.3)\n",
    "ax.plot(phases, 2*(1-np.cos(phases)), 'r-', lw = 3)\n",
    "ax.set_ylabel(r'$L_z + l$')\n",
    "ax.set_xlabel(r'$\\phi_z$')"
   ]
  },
  {
   "cell_type": "markdown",
   "id": "steady-battle",
   "metadata": {},
   "source": [
    "## Ramsey cycle\n",
    "\n",
    "The gate sequence for the Ramsey cycle is $e^{i (\\pi/2) L_x} e^{i \\varphi L_z} e^{i (\\pi/2) L_x}$"
   ]
  },
  {
   "cell_type": "code",
   "execution_count": 22,
   "id": "stupid-covering",
   "metadata": {},
   "outputs": [
    {
     "name": "stdout",
     "output_type": "stream",
     "text": [
      "{'experiment_0': {'instructions': [('rLx', [0], [1.5707963267948966]), ('rLz', [0], [0.0]), ('rLx', [0], [1.5707963267948966]), ('measure', [0], [])], 'num_wires': 1, 'shots': 5}, 'experiment_1': {'instructions': [('rLx', [0], [1.5707963267948966]), ('rLz', [0], [0.6283185307179586]), ('rLx', [0], [1.5707963267948966]), ('measure', [0], [])], 'num_wires': 1, 'shots': 5}, 'experiment_2': {'instructions': [('rLx', [0], [1.5707963267948966]), ('rLz', [0], [1.2566370614359172]), ('rLx', [0], [1.5707963267948966]), ('measure', [0], [])], 'num_wires': 1, 'shots': 5}, 'experiment_3': {'instructions': [('rLx', [0], [1.5707963267948966]), ('rLz', [0], [1.8849555921538759]), ('rLx', [0], [1.5707963267948966]), ('measure', [0], [])], 'num_wires': 1, 'shots': 5}, 'experiment_4': {'instructions': [('rLx', [0], [1.5707963267948966]), ('rLz', [0], [2.5132741228718345]), ('rLx', [0], [1.5707963267948966]), ('measure', [0], [])], 'num_wires': 1, 'shots': 5}, 'experiment_5': {'instructions': [('rLx', [0], [1.5707963267948966]), ('rLz', [0], [3.141592653589793]), ('rLx', [0], [1.5707963267948966]), ('measure', [0], [])], 'num_wires': 1, 'shots': 5}, 'experiment_6': {'instructions': [('rLx', [0], [1.5707963267948966]), ('rLz', [0], [3.7699111843077517]), ('rLx', [0], [1.5707963267948966]), ('measure', [0], [])], 'num_wires': 1, 'shots': 5}, 'experiment_7': {'instructions': [('rLx', [0], [1.5707963267948966]), ('rLz', [0], [4.39822971502571]), ('rLx', [0], [1.5707963267948966]), ('measure', [0], [])], 'num_wires': 1, 'shots': 5}, 'experiment_8': {'instructions': [('rLx', [0], [1.5707963267948966]), ('rLz', [0], [5.026548245743669]), ('rLx', [0], [1.5707963267948966]), ('measure', [0], [])], 'num_wires': 1, 'shots': 5}, 'experiment_9': {'instructions': [('rLx', [0], [1.5707963267948966]), ('rLz', [0], [5.654866776461628]), ('rLx', [0], [1.5707963267948966]), ('measure', [0], [])], 'num_wires': 1, 'shots': 5}, 'experiment_10': {'instructions': [('rLx', [0], [1.5707963267948966]), ('rLz', [0], [6.283185307179586]), ('rLx', [0], [1.5707963267948966]), ('measure', [0], [])], 'num_wires': 1, 'shots': 5}}\n"
     ]
    }
   ],
   "source": [
    "n_phases = 11 # number of phases we would like to investigate\n",
    "phases = np.linspace(0,2*np.pi,n_phases)\n",
    "job_payload = {}\n",
    "\n",
    "for ii in range(n_phases):\n",
    "    exp_str = 'experiment_' + str(ii)\n",
    "    dummy_exp = {\n",
    "        'instructions': [\n",
    "            ('rLx', [0], [np.pi/2]),\n",
    "            ('rLz', [0], [phases[ii]]),\n",
    "            ('rLx', [0], [np.pi/2]),\n",
    "            ('measure', [0], []),\n",
    "            ],\n",
    "            'num_wires': 1,\n",
    "            'shots': 5\n",
    "    }\n",
    "    job_payload[exp_str] = dummy_exp\n",
    "print(job_payload)"
   ]
  },
  {
   "cell_type": "markdown",
   "id": "informational-majority",
   "metadata": {},
   "source": [
    "we first send the job to the server"
   ]
  },
  {
   "cell_type": "code",
   "execution_count": 23,
   "id": "medium-guide",
   "metadata": {},
   "outputs": [
    {
     "name": "stdout",
     "output_type": "stream",
     "text": [
      "{\"job_id\": 59, \"status\": \"INITIALIZING\", \"detail\": \"Got your json.\"}\n"
     ]
    }
   ],
   "source": [
    "url= url_prefix + \"post_job/\"\n",
    "\n",
    "job_response = requests.post(url, data={'json':json.dumps(job_payload),'username': username,'password':password})\n",
    "job_id = (job_response.json())['job_id']\n",
    "print(job_response.text)"
   ]
  },
  {
   "cell_type": "markdown",
   "id": "cleared-anchor",
   "metadata": {},
   "source": [
    "Test for completion."
   ]
  },
  {
   "cell_type": "code",
   "execution_count": 24,
   "id": "revised-sugar",
   "metadata": {},
   "outputs": [
    {
     "name": "stdout",
     "output_type": "stream",
     "text": [
      "{\"job_id\": 59, \"status\": \"DONE\", \"detail\": \"Got your json.; Passed json sanity check; Compilation done. Shots sent to solver\"}\n"
     ]
    }
   ],
   "source": [
    "status_payload = {'job_id': job_id}\n",
    "url= url_prefix + \"get_job_status/\"\n",
    "\n",
    "status_response = requests.get(url, params={'json':json.dumps(status_payload),'username': username,'password':password})\n",
    "\n",
    "print(status_response.text)"
   ]
  },
  {
   "cell_type": "markdown",
   "id": "greenhouse-finnish",
   "metadata": {},
   "source": [
    "Obtaining results"
   ]
  },
  {
   "cell_type": "code",
   "execution_count": 25,
   "id": "fewer-miniature",
   "metadata": {},
   "outputs": [
    {
     "name": "stdout",
     "output_type": "stream",
     "text": [
      "{\"backend_name\": \"synqs_single_qudit_simulator\", \"backend_version\": \"0.0.2\", \"job_id\": 59, \"qobj_id\": null, \"success\": true, \"status\": \"finished\", \"header\": {}, \"results\": [{\"header\": {\"name\": \"SingleQudit\", \"extra metadata\": \"None\"}, \"shots\": 5, \"success\": true, \"data\": {\"memory\": [\"1\", \"1\", \"1\", \"1\", \"1\"]}}, {\"header\": {\"name\": \"SingleQudit\", \"extra metadata\": \"None\"}, \"shots\": 5, \"success\": true, \"data\": {\"memory\": [\"1\", \"1\", \"1\", \"1\", \"1\"]}}, {\"header\": {\"name\": \"SingleQudit\", \"extra metadata\": \"None\"}, \"shots\": 5, \"success\": true, \"data\": {\"memory\": [\"1\", \"0\", \"0\", \"1\", \"1\"]}}, {\"header\": {\"name\": \"SingleQudit\", \"extra metadata\": \"None\"}, \"shots\": 5, \"success\": true, \"data\": {\"memory\": [\"0\", \"1\", \"0\", \"1\", \"0\"]}}, {\"header\": {\"name\": \"SingleQudit\", \"extra metadata\": \"None\"}, \"shots\": 5, \"success\": true, \"data\": {\"memory\": [\"0\", \"0\", \"0\", \"0\", \"0\"]}}, {\"header\": {\"name\": \"SingleQudit\", \"extra metadata\": \"None\"}, \"shots\": 5, \"success\": true, \"data\": {\"memory\": [\"0\", \"0\", \"0\", \"0\", \"0\"]}}, {\"header\": {\"name\": \"SingleQudit\", \"extra metadata\": \"None\"}, \"shots\": 5, \"success\": true, \"data\": {\"memory\": [\"0\", \"0\", \"0\", \"0\", \"0\"]}}, {\"header\": {\"name\": \"SingleQudit\", \"extra metadata\": \"None\"}, \"shots\": 5, \"success\": true, \"data\": {\"memory\": [\"0\", \"0\", \"0\", \"1\", \"1\"]}}, {\"header\": {\"name\": \"SingleQudit\", \"extra metadata\": \"None\"}, \"shots\": 5, \"success\": true, \"data\": {\"memory\": [\"1\", \"1\", \"0\", \"1\", \"0\"]}}, {\"header\": {\"name\": \"SingleQudit\", \"extra metadata\": \"None\"}, \"shots\": 5, \"success\": true, \"data\": {\"memory\": [\"1\", \"1\", \"0\", \"1\", \"1\"]}}, {\"header\": {\"name\": \"SingleQudit\", \"extra metadata\": \"None\"}, \"shots\": 5, \"success\": true, \"data\": {\"memory\": [\"1\", \"1\", \"1\", \"1\", \"1\"]}}]}\n"
     ]
    }
   ],
   "source": [
    "result_payload = {'job_id': job_id}\n",
    "\n",
    "url= url_prefix + \"get_job_result/\"\n",
    "result_response = requests.get(url, params={'json':json.dumps(result_payload),'username': username,'password':password})\n",
    "results_dict = json.loads(result_response.text)\n",
    "print(result_response.text)"
   ]
  },
  {
   "cell_type": "markdown",
   "id": "superior-canadian",
   "metadata": {},
   "source": [
    "The result of the Ramsey cycle is"
   ]
  },
  {
   "cell_type": "code",
   "execution_count": 26,
   "id": "b3908447",
   "metadata": {},
   "outputs": [],
   "source": [
    "measurements = []\n",
    "for res in results_dict[\"results\"]:\n",
    "    shots = np.array(res['data']['memory'])\n",
    "    shots = [shot.split(' ') for shot in shots]\n",
    "    #print(shots.shape)\n",
    "    for ii, el in enumerate(shots):\n",
    "        shots[ii] = [int(meas) for meas in el][0]\n",
    "    measurements.append(shots)\n",
    "    \n",
    "measurements = np.array(measurements)"
   ]
  },
  {
   "cell_type": "code",
   "execution_count": 27,
   "id": "emerging-mailman",
   "metadata": {},
   "outputs": [
    {
     "data": {
      "text/plain": [
       "Text(0.5, 0, '$\\\\phi_z$')"
      ]
     },
     "execution_count": 27,
     "metadata": {},
     "output_type": "execute_result"
    },
    {
     "data": {
      "image/png": "[encoded data removed]",
      "text/plain": [
       "<Figure size 432x288 with 1 Axes>"
      ]
     },
     "metadata": {
      "needs_background": "light"
     },
     "output_type": "display_data"
    }
   ],
   "source": [
    "f, ax = plt.subplots()\n",
    "ax.plot(phases, measurements, 'ro', alpha = 0.3)\n",
    "ax.plot(phases, 2*(1+np.cos(phases)), 'r-', lw = 3)\n",
    "ax.set_ylabel(r'$L_z + l$')\n",
    "ax.set_xlabel(r'$\\phi_z$')"
   ]
  },
  {
   "cell_type": "markdown",
   "id": "78cc92b4-2761-42e3-9de2-c2fed77d94c1",
   "metadata": {},
   "source": [
    "# Load gate\n",
    "\n",
    "we need to make it possible to change the length of the spin. So we will introduce the load gate. The second parameter describes the number of atoms loaded onto the wire."
   ]
  },
  {
   "cell_type": "code",
   "execution_count": 28,
   "id": "6ff4b993-00e6-4997-a481-651b7a67fe59",
   "metadata": {},
   "outputs": [],
   "source": [
    "job_payload = {\n",
    "    'experiment_0': {\n",
    "    'instructions': [\n",
    "        ('load', [0], [50]),\n",
    "        ('rLx', [0], [np.pi]),\n",
    "        ('measure', [0], []),\n",
    "        ],\n",
    "        'num_wires': 1,\n",
    "        'shots': 4\n",
    "    },\n",
    "}"
   ]
  },
  {
   "cell_type": "code",
   "execution_count": 29,
   "id": "16a4c494-573e-4148-b1d6-95c644554dfa",
   "metadata": {},
   "outputs": [
    {
     "name": "stdout",
     "output_type": "stream",
     "text": [
      "{\"job_id\": 60, \"status\": \"INITIALIZING\", \"detail\": \"Got your json.\"}\n"
     ]
    }
   ],
   "source": [
    "url= url_prefix + \"post_job/\" \n",
    "\n",
    "job_response = requests.post(url, data={'json':json.dumps(job_payload),'username': username,'password':password})\n",
    "job_id = (job_response.json())['job_id']\n",
    "print(job_response.text)"
   ]
  },
  {
   "cell_type": "code",
   "execution_count": 30,
   "id": "4a9121f0-e762-4f18-9b40-8d667d61e97b",
   "metadata": {},
   "outputs": [
    {
     "name": "stdout",
     "output_type": "stream",
     "text": [
      "{\"backend_name\": \"synqs_single_qudit_simulator\", \"backend_version\": \"0.0.2\", \"job_id\": 60, \"qobj_id\": null, \"success\": true, \"status\": \"finished\", \"header\": {}, \"results\": [{\"header\": {\"name\": \"SingleQudit\", \"extra metadata\": \"None\"}, \"shots\": 4, \"success\": true, \"data\": {\"memory\": [\"50\", \"50\", \"50\", \"50\"]}}]}\n"
     ]
    }
   ],
   "source": [
    "result_payload = {'job_id': job_id}\n",
    "url= url_prefix + \"get_job_result/\" \n",
    "\n",
    "result_response = requests.get(url, params={'json':json.dumps(result_payload),'username': username,'password':password})\n",
    "\n",
    "print(result_response.text)"
   ]
  },
  {
   "cell_type": "markdown",
   "id": "5fe5bfe1-0f90-4747-9c07-21d585dd65f0",
   "metadata": {},
   "source": [
    "# Test the seed"
   ]
  },
  {
   "cell_type": "code",
   "execution_count": 40,
   "id": "2ee7f871-8f93-4869-a395-50c68470689c",
   "metadata": {},
   "outputs": [],
   "source": [
    "job_payload = {\n",
    "            'experiment_0': {\n",
    "                'instructions': [\n",
    "                    ('load', [0], [50]),\n",
    "                    ('rLx', [0], [np.pi/2]),\n",
    "                    ('measure', [0], []),\n",
    "                ],\n",
    "                'num_wires': 1,\n",
    "                'shots': 3,\n",
    "                'seed': 12345\n",
    "            },\n",
    "            'experiment_1': {\n",
    "                'instructions': [\n",
    "                    ('load', [0], [50]),\n",
    "                    ('rLx', [0], [np.pi/2]),\n",
    "                    ('measure', [0], []),\n",
    "                ],\n",
    "                'num_wires': 1,\n",
    "                'shots': 3,\n",
    "                'seed': 12345\n",
    "            },\n",
    "        }"
   ]
  },
  {
   "cell_type": "code",
   "execution_count": 41,
   "id": "3927e16a-408f-4350-a88b-7884cc66ba69",
   "metadata": {},
   "outputs": [
    {
     "name": "stdout",
     "output_type": "stream",
     "text": [
      "{\"job_id\": 64, \"status\": \"INITIALIZING\", \"detail\": \"Got your json.\"}\n"
     ]
    }
   ],
   "source": [
    "url= url_prefix + \"post_job/\" \n",
    "\n",
    "job_response = requests.post(url, data={'json':json.dumps(job_payload),'username': username,'password':password})\n",
    "job_id = (job_response.json())['job_id']\n",
    "print(job_response.text)"
   ]
  },
  {
   "cell_type": "code",
   "execution_count": 43,
   "id": "8a9f2a3e-cd55-4942-ba84-ce68354f080c",
   "metadata": {},
   "outputs": [
    {
     "name": "stdout",
     "output_type": "stream",
     "text": [
      "{'backend_name': 'synqs_single_qudit_simulator',\n",
      " 'backend_version': '0.0.2',\n",
      " 'header': {},\n",
      " 'job_id': 64,\n",
      " 'qobj_id': None,\n",
      " 'results': [{'data': {'memory': ['30', '23', '22']},\n",
      "              'header': {'extra metadata': 'None', 'name': 'SingleQudit'},\n",
      "              'shots': 3,\n",
      "              'success': True},\n",
      "             {'data': {'memory': ['30', '23', '22']},\n",
      "              'header': {'extra metadata': 'None', 'name': 'SingleQudit'},\n",
      "              'shots': 3,\n",
      "              'success': True}],\n",
      " 'status': 'finished',\n",
      " 'success': True}\n"
     ]
    }
   ],
   "source": [
    "result_payload = {'job_id': job_id}\n",
    "url= url_prefix + \"get_job_result/\" \n",
    "\n",
    "result_response = requests.get(url, params={'json':json.dumps(result_payload),'username': username,'password':password})\n",
    "results_dict = json.loads(result_response.text)\n",
    "pprint(results_dict)"
   ]
  },
  {
   "cell_type": "code",
   "execution_count": null,
   "id": "bbe290c5-871a-4f4a-936f-8792c460de17",
   "metadata": {},
   "outputs": [],
   "source": []
  }
 ],
 "metadata": {
  "kernelspec": {
   "display_name": "Python 3",
   "language": "python",
   "name": "python3"
  },
  "language_info": {
   "codemirror_mode": {
    "name": "ipython",
    "version": 3
   },
   "file_extension": ".py",
   "mimetype": "text/x-python",
   "name": "python",
   "nbconvert_exporter": "python",
   "pygments_lexer": "ipython3",
   "version": "3.9.4"
  }
 },
 "nbformat": 4,
 "nbformat_minor": 5
}
