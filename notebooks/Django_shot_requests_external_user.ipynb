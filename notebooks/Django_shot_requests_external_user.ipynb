{
 "cells": [
  {
   "cell_type": "code",
   "execution_count": 1,
   "metadata": {},
   "outputs": [],
   "source": [
    "import json\n",
    "import requests\n",
    "from decouple import config"
   ]
  },
  {
   "cell_type": "markdown",
   "metadata": {},
   "source": [
    "## Get config"
   ]
  },
  {
   "cell_type": "code",
   "execution_count": 2,
   "metadata": {},
   "outputs": [],
   "source": [
    "username = config('USERNAME_TEST')\n",
    "password = config('PASSWORD_TEST')\n",
    "server_domain = \"http://coquma-sim.herokuapp.com/api/\"\n",
    "requested_backend = \"fermions\""
   ]
  },
  {
   "cell_type": "code",
   "execution_count": 3,
   "metadata": {},
   "outputs": [
    {
     "name": "stdout",
     "output_type": "stream",
     "text": [
      "{\"conditional\": false, \"coupling_map\": \"linear\", \"dynamic_reprate_enabled\": false, \"local\": false, \"memory\": true, \"open_pulse\": false, \"display_name\": \"fermions\", \"description\": \"simulator of a fermionic tweezer hardware. The even wires denote the occupations of the spin-up fermions and the odd wires denote the spin-down fermions\", \"backend_version\": \"0.0.1\", \"cold_atom_type\": \"fermion\", \"simulator\": true, \"num_species\": 1, \"max_shots\": 1000000, \"max_experiments\": 1000, \"n_qubits\": 1, \"supported_instructions\": [\"load\", \"measure\", \"barrier\", \"fhop\", \"fint\", \"fphase\"], \"wire_order\": \"interleaved\", \"backend_name\": \"synqs_fermions_simulator\", \"gates\": [{\"name\": \"fhop\", \"qasm_def\": \"{}\", \"parameters\": [\"j_i\"], \"description\": \"hopping of atoms to neighboring tweezers\", \"coupling_map\": [[0, 1, 2, 3], [2, 3, 4, 5], [4, 5, 6, 7], [0, 1, 2, 3, 4, 5, 6, 7]]}, {\"name\": \"fint\", \"qasm_def\": \"{}\", \"parameters\": [\"u\"], \"description\": \"on-site interaction of atoms of opposite spin state\", \"coupling_map\": [[0, 1, 2, 3, 4, 5, 6, 7]]}, {\"name\": \"fphase\", \"qasm_def\": \"{}\", \"parameters\": [\"mu_i\"], \"description\": \"Applying a local phase to tweezers through an external potential\", \"coupling_map\": [[0, 1], [2, 3], [4, 5], [6, 7], [0, 1, 2, 3, 4, 5, 6, 7]]}], \"basis_gates\": [\"fhop\", \"fint\", \"fphase\"], \"url\": \"https://coquma-sim.herokuapp.com/api/fermions/\"}\n"
     ]
    }
   ],
   "source": [
    "url=server_domain + requested_backend +\"/get_config/\"\n",
    "\n",
    "r = requests.get(url,params={'username': username,'password':password})\n",
    "\n",
    "print(r.text)\n",
    "#print(r.content)"
   ]
  },
  {
   "cell_type": "markdown",
   "metadata": {},
   "source": [
    "## Submit jobs"
   ]
  },
  {
   "cell_type": "code",
   "execution_count": 4,
   "metadata": {},
   "outputs": [],
   "source": [
    "job_payload = {\n",
    "    'experiment_0': {\n",
    "        'instructions': [\n",
    "            ('load', [0], []), \n",
    "            ('load', [1], []), \n",
    "            ('load', [2], []), \n",
    "            ('fhop', [0, 1, 2, 3], [1.0]), \n",
    "            ('fint', [0, 1, 2, 3, 4, 5, 6, 7], [2.0]), \n",
    "            ('fphase', [0, 2], [2.0]), \n",
    "            ('measure', [0], []), \n",
    "            ('measure', [1], []), \n",
    "            ('measure', [2], []), \n",
    "            ('measure', [3], []), \n",
    "            ('measure', [4], []), \n",
    "            ('measure', [5], []), \n",
    "            ('measure', [6], []), \n",
    "            ('measure', [7], [])\n",
    "        ], \n",
    "        'num_wires': 1, \n",
    "        'shots': 10**2,\n",
    "        'wire_order':'interleaved',\n",
    "    },\n",
    "    'experiment_1': {\n",
    "        'instructions': [\n",
    "            ('load', [0], []), \n",
    "            ('load', [1], []), \n",
    "            ('load', [2], []), \n",
    "            ('fhop', [0, 1, 2, 3], [1.0]), \n",
    "            ('fint', [0, 1, 2, 3, 4, 5, 6, 7], [2.0]), \n",
    "            ('fphase', [0, 2], [2.0]), \n",
    "            ('measure', [0], []), \n",
    "            ('measure', [1], []), \n",
    "            ('measure', [2], []), \n",
    "            ('measure', [3], []), \n",
    "            ('measure', [4], []), \n",
    "            ('measure', [5], []), \n",
    "            ('measure', [6], []), \n",
    "            ('measure', [7], [])\n",
    "        ], \n",
    "        'num_wires': 1, \n",
    "        'shots': 600,\n",
    "        'wire_order':'interleaved',\n",
    "    },\n",
    "}"
   ]
  },
  {
   "cell_type": "code",
   "execution_count": 5,
   "metadata": {},
   "outputs": [],
   "source": [
    "# job_payload = {\n",
    "#     'experiment_0': {'instructions': [('load', [0], [100]), ('load', [1], [20]), ('measure', [0], [])], 'num_wires': 4, 'shots': 5},\n",
    "#     'experiment_1': {'instructions': [('rLx', [0], [0.1]), ('rLx', [3], [0.3]), ('measure', [0], [])], 'num_wires': 4, 'shots': 5},\n",
    "#     'experiment_2': {'instructions': [('rLz', [0], [0.15]), ('rLz', [3], [0.2]), ('measure', [0], [])], 'num_wires': 4, 'shots': 5},\n",
    "#     'experiment_3': {'instructions': [('rLz2', [0], [3.141592653589793]), ('measure', [0], [])], 'num_wires': 4, 'shots': 5},\n",
    "#     'experiment_4': {'instructions': [('load', [0], [10]), ('LzLz', [0, 1], [0.1]), ('measure', [0], [])], 'num_wires': 4, 'shots': 5},\n",
    "#     'experiment_5': {'instructions': [('load', [0], [10]), ('LxLy', [0, 1], [0.1]), ('measure', [0], [])], 'num_wires': 4, 'shots': 5},\n",
    "# }"
   ]
  },
  {
   "cell_type": "code",
   "execution_count": 6,
   "metadata": {},
   "outputs": [],
   "source": [
    "# job_payload = {\n",
    "#     'experiment_0': {\n",
    "#         'instructions': [\n",
    "#             ('load', [0], [50]), \n",
    "#             ('rLx', [0], [1.5707963267948966]), \n",
    "#             ('rLx', [0], [1.5707963267948966]), \n",
    "#             ('rLz', [0], [3.141592653589793]), \n",
    "#             ('measure', [0], [])\n",
    "#             ], \n",
    "#             'num_wires': 1, \n",
    "#             'shots': 500},\n",
    "#     'experiment_1': {\n",
    "#         'instructions': [\n",
    "#             ('load', [0], [50]), \n",
    "#             ('rLx', [0], [1.5707963267948966]), \n",
    "#             ('rLx', [0], [1.5707963267948966]), \n",
    "#             ('rLz', [0], [3.141592653589793]), \n",
    "#             ('measure', [0], [])\n",
    "#             ], \n",
    "#             'num_wires': 1, \n",
    "#             'shots': 500},\n",
    "# }"
   ]
  },
  {
   "cell_type": "code",
   "execution_count": 7,
   "metadata": {},
   "outputs": [
    {
     "name": "stdout",
     "output_type": "stream",
     "text": [
      "{\"job_id\": \"20220114_175837-fermions-synqs_test-de242\", \"status\": \"INITIALIZING\", \"detail\": \"Got your json.\", \"error_message\": \"None\"}\n"
     ]
    }
   ],
   "source": [
    "url=server_domain + requested_backend +\"/post_job/\"\n",
    "\n",
    "job_response = requests.post(url, data={'json':json.dumps(job_payload),'username': username,'password':password})\n",
    "\n",
    "print(job_response.text)"
   ]
  },
  {
   "cell_type": "code",
   "execution_count": 8,
   "metadata": {},
   "outputs": [],
   "source": [
    "job_id = (job_response.json())['job_id']"
   ]
  },
  {
   "cell_type": "markdown",
   "metadata": {},
   "source": [
    "## Get job status"
   ]
  },
  {
   "cell_type": "code",
   "execution_count": 12,
   "metadata": {
    "scrolled": true
   },
   "outputs": [
    {
     "name": "stdout",
     "output_type": "stream",
     "text": [
      "{\"job_id\": \"20220114_175837-fermions-synqs_test-de242\", \"status\": \"DONE\", \"detail\": \"Got your json.; Passed json sanity check; Compilation done. Shots sent to solver.\", \"error_message\": \"None\"}\n"
     ]
    }
   ],
   "source": [
    "status_payload = {'job_id': job_id}\n",
    "url=server_domain + requested_backend +\"/get_job_status/\"\n",
    "\n",
    "status_response = requests.get(url, params={'json':json.dumps(status_payload),'username': username,'password':password})\n",
    "\n",
    "print(status_response.text)"
   ]
  },
  {
   "cell_type": "markdown",
   "metadata": {},
   "source": [
    "## Get job results"
   ]
  },
  {
   "cell_type": "code",
   "execution_count": 11,
   "metadata": {
    "scrolled": true
   },
   "outputs": [],
   "source": [
    "result_payload = {'job_id': job_id}\n",
    "url=server_domain + requested_backend +\"/get_job_result/\"\n",
    "\n",
    "result_response = requests.get(url, params={'json':json.dumps(result_payload),'username': username,'password':password})\n",
    "\n",
    "#print(result_response.text)"
   ]
  },
  {
   "cell_type": "markdown",
   "metadata": {},
   "source": [
    "## Get user jobs for this backend"
   ]
  },
  {
   "cell_type": "code",
   "execution_count": 11,
   "metadata": {},
   "outputs": [],
   "source": [
    "url=server_domain + requested_backend +\"/get_user_jobs/\"\n",
    "\n",
    "queue_response = requests.get(url, params={'username': username,'password':password})\n",
    "\n",
    "#print(queue_response.text)"
   ]
  },
  {
   "cell_type": "markdown",
   "metadata": {},
   "source": [
    "## Get next job in queue"
   ]
  },
  {
   "cell_type": "code",
   "execution_count": 12,
   "metadata": {
    "scrolled": true
   },
   "outputs": [],
   "source": [
    "# url=server_domain + requested_backend +\"/get_next_job_in_queue/\"\n",
    "\n",
    "# queue_response = requests.get(url, params={'username': username,'password':password})\n",
    "\n",
    "# print(queue_response.text)"
   ]
  },
  {
   "cell_type": "markdown",
   "metadata": {},
   "source": [
    "## Change password"
   ]
  },
  {
   "cell_type": "code",
   "execution_count": 13,
   "metadata": {},
   "outputs": [],
   "source": [
    "# url=\"http://localhost:9000/shots/change_password/\"\n",
    "\n",
    "# #job_response = requests.post(url, data={'username': username,'password':password,'new_password':'blah'})\n",
    "\n",
    "# print(job_response.text)"
   ]
  },
  {
   "cell_type": "code",
   "execution_count": null,
   "metadata": {},
   "outputs": [],
   "source": []
  }
 ],
 "metadata": {
  "interpreter": {
   "hash": "d5de9de99c7ae277d84a7dbb94d62c9b2fd2a6aa268a4bdf048631474983b4d3"
  },
  "kernelspec": {
   "display_name": "Python 3",
   "language": "python",
   "name": "python3"
  },
  "language_info": {
   "codemirror_mode": {
    "name": "ipython",
    "version": 3
   },
   "file_extension": ".py",
   "mimetype": "text/x-python",
   "name": "python",
   "nbconvert_exporter": "python",
   "pygments_lexer": "ipython3",
   "version": "3.8.5"
  }
 },
 "nbformat": 4,
 "nbformat_minor": 4
}
