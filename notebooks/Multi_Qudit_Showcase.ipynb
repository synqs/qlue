{
 "cells": [
  {
   "cell_type": "markdown",
   "id": "9c2f9c99",
   "metadata": {},
   "source": [
    "# Multiqudit simulator\n",
    "\n",
    "In cold atoms, we do not necessarily work with qubits. As an example, we implemented here the operation on a single qudit as it is implemented in Heidelberg University. In this notebook we present the communication with our API. The communication with the backend happens through the four url\n",
    "\n",
    "1. '.../multiqudit/get_config/' \n",
    "2. '.../multiqudit/post_job/'\n",
    "3. '.../multiqudit/get_job_status/'\n",
    "4. '.../multiqudit/get_job_result/'"
   ]
  },
  {
   "cell_type": "markdown",
   "id": "cf51d7e0",
   "metadata": {},
   "source": [
    "# get config\n",
    "\n",
    "Getting the description of the simulator/backend as a json file\n",
    "\n",
    "* user login  at '.../get_config'\n",
    "* json file with simulator/backend description "
   ]
  },
  {
   "cell_type": "code",
   "execution_count": 1,
   "id": "02c7ce77",
   "metadata": {},
   "outputs": [],
   "source": [
    "import requests\r\n",
    "import json\r\n",
    "from pprint import pprint"
   ]
  },
  {
   "cell_type": "markdown",
   "id": "0649b11f",
   "metadata": {},
   "source": [
    "This imports the `credentials.py` file you received from us."
   ]
  },
  {
   "cell_type": "code",
   "execution_count": 2,
   "id": "a310d7e5",
   "metadata": {},
   "outputs": [],
   "source": [
    "#from heroku_credentials import username, password\r\n",
    "from credentials import username, password"
   ]
  },
  {
   "cell_type": "code",
   "execution_count": 3,
   "id": "145e78fd",
   "metadata": {},
   "outputs": [],
   "source": [
    "#url_prefix=\"https://qsimsim.synqs.org/multiqudit/\" # the cloud back-end\r\n",
    "url_prefix = 'http://localhost:8000/multiqudit/' # the back-end for local testing"
   ]
  },
  {
   "cell_type": "code",
   "execution_count": 4,
   "id": "53512020",
   "metadata": {},
   "outputs": [
    {
     "name": "stdout",
     "output_type": "stream",
     "text": [
      "http://localhost:8000/multiqudit/get_config/\n",
      "{'atomic_species': ['na'],\n",
      " 'backend_name': 'synqs_multi_qudit_simulator',\n",
      " 'backend_version': '0.0.1',\n",
      " 'basis_gates': ['rLx', 'rLz', 'rLz2', 'XY'],\n",
      " 'cold_atom_type': 'spin',\n",
      " 'conditional': False,\n",
      " 'coupling_map': [[]],\n",
      " 'credits_required': False,\n",
      " 'description': 'Setup of a cold atomic gas experiment with qudits.',\n",
      " 'display_name': '<Multi_Qudit',\n",
      " 'gates': [{'coupling_map': [[0], [1], [2], [3], [4]],\n",
      "            'description': 'Evolution under the Z gate',\n",
      "            'name': 'rLz',\n",
      "            'parameters': ['delta'],\n",
      "            'qasm_def': 'gate rLz(delta) {}'},\n",
      "           {'coupling_map': [[0], [1], [2], [3], [4]],\n",
      "            'description': 'Evolution under Lz2',\n",
      "            'name': 'rLz2',\n",
      "            'parameters': ['chi'],\n",
      "            'qasm_def': 'gate rLz2(chi) {}'},\n",
      "           {'coupling_map': [[0], [1], [2], [3], [4]],\n",
      "            'description': 'Evolution under Lx',\n",
      "            'name': 'rLx',\n",
      "            'parameters': ['omega'],\n",
      "            'qasm_def': 'gate rx(omega) {}'},\n",
      "           {'coupling_map': [[0, 1], [1, 2], [2, 3], [3, 4], [0, 1, 2, 3, 4]],\n",
      "            'description': 'Entanglement between neighboring gates with an xy '\n",
      "                           'interaction',\n",
      "            'name': 'XY',\n",
      "            'parameters': ['J'],\n",
      "            'qasm_def': 'gate xy(J) {}'}],\n",
      " 'local': False,\n",
      " 'max_experiments': 20,\n",
      " 'max_shots': 1000,\n",
      " 'memory': True,\n",
      " 'n_qubits': 4,\n",
      " 'open_pulse': False,\n",
      " 'simulator': True,\n",
      " 'supported_instructions': ['rLx', 'rLz', 'rLz2', 'XY', 'barrier', 'measure'],\n",
      " 'url': 'http://localhost:9000/shots/'}\n"
     ]
    }
   ],
   "source": [
    "url= url_prefix + \"get_config/\"\r\n",
    "print(url)\r\n",
    "\r\n",
    "r = requests.get(url,params={'username': username,'password':password})\r\n",
    "\r\n",
    "r_dict  = json.loads(r.text)\r\n",
    "pprint(r_dict)"
   ]
  },
  {
   "cell_type": "markdown",
   "id": "2c76af0c",
   "metadata": {},
   "source": [
    "# The mult-qudit backend\n",
    "\n",
    "The single qudit Hilbert space is $|l, m\\rangle$ with $l = 1$ and $m = -1, 0, 1$ being an eigenstate of the total angular momentum\n",
    "operator and the z-component\n",
    "\n",
    "\\begin{align}\n",
    "    L^2 |l,m\\rangle &= l (l+1) |l,m \\rangle \\notag  \\\\\n",
    "    L_z |l, m\\rangle &= m |l, m\\rangle \\notag\n",
    "\\end{align}\n",
    "\n",
    "The Hamiltonian which controls the qudit is \n",
    "\n",
    "\\begin{align}\n",
    "    H = \\chi L_z^2 + \\Delta L_z + \\Omega L_x\n",
    "\\end{align}\n",
    "where the coupling constants $\\chi$, $\\Delta$ and $\\Omega$ can be switched on and off individually.\n",
    "\n",
    "We us the above Hamiltonian to generate the following three gates\n",
    "\n",
    "* Rotation around the z-axis \n",
    "    \\begin{align}\n",
    "        Rz = \\exp\\{  i \\theta L_z \\} \n",
    "    \\end{align}\n",
    "* Rotation around the x-axis \n",
    "    \\begin{align}\n",
    "        Rx = \\exp\\{ i \\theta L_x \\} \n",
    "    \\end{align} \n",
    "* Squeezing operation \n",
    "    \\begin{align}\n",
    "        S = \\exp\\{ i \\theta L^2_z \\} \n",
    "    \\end{align}"
   ]
  },
  {
   "cell_type": "markdown",
   "id": "1dd5526e",
   "metadata": {},
   "source": [
    "## x rotation\n",
    "\n",
    "This rotates the qudit around the x axis to put it into a superposition of z states. We start with a $\\pi$ rotation i.e\n",
    "    \\begin{align}\n",
    "        rLx = \\exp\\{ i \\pi L_x \\} \n",
    "    \\end{align} "
   ]
  },
  {
   "cell_type": "code",
   "execution_count": 5,
   "id": "7e46d39f",
   "metadata": {},
   "outputs": [],
   "source": [
    "import numpy as np\r\n",
    "import matplotlib.pyplot as plt"
   ]
  },
  {
   "cell_type": "code",
   "execution_count": 6,
   "id": "f35e2b8f",
   "metadata": {},
   "outputs": [],
   "source": [
    "job_payload = {\r\n",
    "    'experiment_0': {\r\n",
    "    'instructions': [\r\n",
    "        ('rLx', [1], [np.pi]),\r\n",
    "        ('measure', [0], []),\r\n",
    "        ('measure', [1], []),\r\n",
    "        ('measure', [2], []),\r\n",
    "        ('measure', [3], []),\r\n",
    "        ],\r\n",
    "        'num_wires': 4,\r\n",
    "        'shots': 4\r\n",
    "    },\r\n",
    "}"
   ]
  },
  {
   "cell_type": "markdown",
   "id": "cf82e5d3",
   "metadata": {},
   "source": [
    "Send the job to the server"
   ]
  },
  {
   "cell_type": "code",
   "execution_count": 7,
   "id": "ac3bd68f",
   "metadata": {},
   "outputs": [
    {
     "name": "stdout",
     "output_type": "stream",
     "text": [
      "{\"job_id\": 50, \"status\": \"INITIALIZING\", \"detail\": \"Got your json.\"}\n"
     ]
    }
   ],
   "source": [
    "url= url_prefix + \"post_job/\" \r\n",
    "\r\n",
    "job_response = requests.post(url, data={'json':json.dumps(job_payload),'username': username,'password':password})\r\n",
    "job_id = (job_response.json())['job_id']\r\n",
    "print(job_response.text)"
   ]
  },
  {
   "cell_type": "markdown",
   "id": "f59fcb51",
   "metadata": {},
   "source": [
    "Test for completion"
   ]
  },
  {
   "cell_type": "code",
   "execution_count": 8,
   "id": "2022bbb2",
   "metadata": {
    "tags": []
   },
   "outputs": [
    {
     "name": "stdout",
     "output_type": "stream",
     "text": [
      "{\"job_id\": 50, \"status\": \"DONE\", \"detail\": \"Got your json.; Passed json sanity check; Compilation done. Shots sent to solver\"}\n"
     ]
    }
   ],
   "source": [
    "status_payload = {'job_id': job_id}\r\n",
    "\r\n",
    "url= url_prefix + \"get_job_status/\" \r\n",
    "\r\n",
    "status_response = requests.get(url, params={'json':json.dumps(status_payload),'username': username,'password':password})\r\n",
    "\r\n",
    "print(status_response.text)"
   ]
  },
  {
   "cell_type": "markdown",
   "id": "0f392666",
   "metadata": {},
   "source": [
    "Obtaining results"
   ]
  },
  {
   "cell_type": "code",
   "execution_count": 9,
   "id": "caec94db",
   "metadata": {},
   "outputs": [
    {
     "name": "stdout",
     "output_type": "stream",
     "text": [
      "{'backend_name': 'synqs_multi_qudit_simulator',\n",
      " 'backend_version': '0.0.1',\n",
      " 'header': {},\n",
      " 'job_id': 50,\n",
      " 'qobj_id': None,\n",
      " 'results': [{'data': {'memory': ['0 1 0 0', '0 1 0 0', '0 1 0 0', '0 1 0 0']},\n",
      "              'header': {'extra metadata': 'None', 'name': 'MultiQudit'},\n",
      "              'shots': 4,\n",
      "              'success': True}],\n",
      " 'status': 'finished',\n",
      " 'success': True}\n"
     ]
    }
   ],
   "source": [
    "result_payload = {'job_id': job_id}\r\n",
    "url= url_prefix + \"get_job_result/\" \r\n",
    "\r\n",
    "result_response = requests.get(url, params={'json':json.dumps(result_payload),'username': username,'password':password})\r\n",
    "\r\n",
    "r_dict  = json.loads(result_response.text)\r\n",
    "pprint(r_dict)"
   ]
  },
  {
   "cell_type": "markdown",
   "id": "fa610295",
   "metadata": {},
   "source": [
    "the result of the calculation is then"
   ]
  },
  {
   "cell_type": "code",
   "execution_count": 10,
   "id": "2e9d5119",
   "metadata": {},
   "outputs": [
    {
     "name": "stdout",
     "output_type": "stream",
     "text": [
      "['0 1 0 0', '0 1 0 0', '0 1 0 0', '0 1 0 0']\n"
     ]
    }
   ],
   "source": [
    "res_dict = json.loads(result_response.text)\r\n",
    "measurements = res_dict[\"results\"][0]['data']['memory']\r\n",
    "print(measurements)"
   ]
  },
  {
   "cell_type": "markdown",
   "id": "cd318802",
   "metadata": {},
   "source": [
    "## Change number of wires\n",
    "\n",
    "The following section tests if we can change the number of wires"
   ]
  },
  {
   "cell_type": "code",
   "execution_count": 11,
   "id": "c87bb80d",
   "metadata": {},
   "outputs": [],
   "source": [
    "job_payload = {\r\n",
    "    'experiment_0': {\r\n",
    "        'instructions': [\r\n",
    "            ('rLx', [0], [0.7]),\r\n",
    "            ('measure', [0], [])\r\n",
    "        ],\r\n",
    "        'num_wires': 1,\r\n",
    "        'shots': 3\r\n",
    "    },\r\n",
    "    'experiment_1': {\r\n",
    "        'instructions': [\r\n",
    "            ('rLx', [1], [0.7]),\r\n",
    "            ('measure', [0], []),\r\n",
    "            ('measure', [1], [])\r\n",
    "        ],\r\n",
    "        'num_wires': 2,\r\n",
    "        'shots': 3\r\n",
    "    },\r\n",
    "    'experiment_2': {\r\n",
    "        'instructions': [\r\n",
    "            ('rLx', [2], [0.7]),\r\n",
    "            ('measure', [0], []),\r\n",
    "            ('measure', [1], []),\r\n",
    "            ('measure', [2], [])\r\n",
    "        ],\r\n",
    "        'num_wires': 3,\r\n",
    "        'shots': 3\r\n",
    "    },\r\n",
    "    'experiment_3': {\r\n",
    "        'instructions': [\r\n",
    "            ('rLx', [3], [0.7]),\r\n",
    "            ('measure', [0], []),\r\n",
    "            ('measure', [1], []),\r\n",
    "            ('measure', [2], []),\r\n",
    "            ('measure', [3], [])\r\n",
    "        ],\r\n",
    "        'num_wires': 4,\r\n",
    "        'shots': 3\r\n",
    "    },\r\n",
    "}"
   ]
  },
  {
   "cell_type": "code",
   "execution_count": 12,
   "id": "0f1a54bb",
   "metadata": {},
   "outputs": [
    {
     "name": "stdout",
     "output_type": "stream",
     "text": [
      "{\"job_id\": 51, \"status\": \"INITIALIZING\", \"detail\": \"Got your json.\"}\n"
     ]
    }
   ],
   "source": [
    "url= url_prefix + \"post_job/\" \r\n",
    "\r\n",
    "job_response = requests.post(url, data={'json':json.dumps(job_payload),'username': username,'password':password})\r\n",
    "job_id = (job_response.json())['job_id']\r\n",
    "print(job_response.text)"
   ]
  },
  {
   "cell_type": "code",
   "execution_count": 13,
   "id": "fb21e1ad",
   "metadata": {},
   "outputs": [
    {
     "name": "stdout",
     "output_type": "stream",
     "text": [
      "{\"job_id\": 51, \"status\": \"DONE\", \"detail\": \"Got your json.; Passed json sanity check; Compilation done. Shots sent to solver\"}\n"
     ]
    }
   ],
   "source": [
    "status_payload = {'job_id': job_id}\r\n",
    "url= url_prefix + \"get_job_status/\" \r\n",
    "\r\n",
    "status_response = requests.get(url, params={'json':json.dumps(status_payload),'username': username,'password':password})\r\n",
    "print(status_response.text)"
   ]
  },
  {
   "cell_type": "code",
   "execution_count": 14,
   "id": "df668029",
   "metadata": {},
   "outputs": [
    {
     "name": "stdout",
     "output_type": "stream",
     "text": [
      "{\"backend_name\": \"synqs_multi_qudit_simulator\", \"backend_version\": \"0.0.1\", \"job_id\": 51, \"qobj_id\": null, \"success\": true, \"status\": \"finished\", \"header\": {}, \"results\": [{\"header\": {\"name\": \"MultiQudit\", \"extra metadata\": \"None\"}, \"shots\": 3, \"success\": true, \"data\": {\"memory\": [\"0\", \"0\", \"0\"]}}, {\"header\": {\"name\": \"MultiQudit\", \"extra metadata\": \"None\"}, \"shots\": 3, \"success\": true, \"data\": {\"memory\": [\"0 0\", \"0 1\", \"0 0\"]}}, {\"header\": {\"name\": \"MultiQudit\", \"extra metadata\": \"None\"}, \"shots\": 3, \"success\": true, \"data\": {\"memory\": [\"0 0 0\", \"0 0 0\", \"0 0 0\"]}}, {\"header\": {\"name\": \"MultiQudit\", \"extra metadata\": \"None\"}, \"shots\": 3, \"success\": true, \"data\": {\"memory\": [\"0 0 0 0\", \"0 0 0 0\", \"0 0 0 0\"]}}]}\n"
     ]
    }
   ],
   "source": [
    "result_payload = {'job_id': job_id}\r\n",
    "url= url_prefix + \"get_job_result/\" \r\n",
    "\r\n",
    "result_response = requests.get(url, params={'json':json.dumps(result_payload),'username': username,'password':password})\r\n",
    "print(result_response.text)"
   ]
  },
  {
   "cell_type": "code",
   "execution_count": 15,
   "id": "24502601",
   "metadata": {},
   "outputs": [
    {
     "name": "stdout",
     "output_type": "stream",
     "text": [
      "['0', '0', '0']\n"
     ]
    }
   ],
   "source": [
    "res_dict = json.loads(result_response.text)\r\n",
    "measurements = res_dict[\"results\"][0]['data']['memory']\r\n",
    "print(measurements)"
   ]
  },
  {
   "cell_type": "markdown",
   "id": "9040f41b",
   "metadata": {},
   "source": [
    "## Rabi oscillation\n",
    "\n",
    "The following section creates a Rabi-oscillation"
   ]
  },
  {
   "cell_type": "markdown",
   "id": "fe373a05",
   "metadata": {},
   "source": [
    "Create several jobs determined by the phase  "
   ]
  },
  {
   "cell_type": "code",
   "execution_count": 16,
   "id": "ff1e6317",
   "metadata": {},
   "outputs": [
    {
     "name": "stdout",
     "output_type": "stream",
     "text": [
      "{'experiment_0': {'instructions': [('rLx', [0], [0.0]), ('measure', [0], [])],\n",
      "                  'num_wires': 4,\n",
      "                  'shots': 12},\n",
      " 'experiment_1': {'instructions': [('rLx', [0], [0.6283185307179586]),\n",
      "                                   ('measure', [0], [])],\n",
      "                  'num_wires': 4,\n",
      "                  'shots': 12},\n",
      " 'experiment_10': {'instructions': [('rLx', [0], [6.283185307179586]),\n",
      "                                    ('measure', [0], [])],\n",
      "                   'num_wires': 4,\n",
      "                   'shots': 12},\n",
      " 'experiment_2': {'instructions': [('rLx', [0], [1.2566370614359172]),\n",
      "                                   ('measure', [0], [])],\n",
      "                  'num_wires': 4,\n",
      "                  'shots': 12},\n",
      " 'experiment_3': {'instructions': [('rLx', [0], [1.8849555921538759]),\n",
      "                                   ('measure', [0], [])],\n",
      "                  'num_wires': 4,\n",
      "                  'shots': 12},\n",
      " 'experiment_4': {'instructions': [('rLx', [0], [2.5132741228718345]),\n",
      "                                   ('measure', [0], [])],\n",
      "                  'num_wires': 4,\n",
      "                  'shots': 12},\n",
      " 'experiment_5': {'instructions': [('rLx', [0], [3.141592653589793]),\n",
      "                                   ('measure', [0], [])],\n",
      "                  'num_wires': 4,\n",
      "                  'shots': 12},\n",
      " 'experiment_6': {'instructions': [('rLx', [0], [3.7699111843077517]),\n",
      "                                   ('measure', [0], [])],\n",
      "                  'num_wires': 4,\n",
      "                  'shots': 12},\n",
      " 'experiment_7': {'instructions': [('rLx', [0], [4.39822971502571]),\n",
      "                                   ('measure', [0], [])],\n",
      "                  'num_wires': 4,\n",
      "                  'shots': 12},\n",
      " 'experiment_8': {'instructions': [('rLx', [0], [5.026548245743669]),\n",
      "                                   ('measure', [0], [])],\n",
      "                  'num_wires': 4,\n",
      "                  'shots': 12},\n",
      " 'experiment_9': {'instructions': [('rLx', [0], [5.654866776461628]),\n",
      "                                   ('measure', [0], [])],\n",
      "                  'num_wires': 4,\n",
      "                  'shots': 12}}\n"
     ]
    }
   ],
   "source": [
    "n_phases = 11 # number of phases we would like to investigate\r\n",
    "phases = np.linspace(0,2*np.pi,n_phases) #array of phases\r\n",
    "job_payload = {}\r\n",
    "\r\n",
    "for ii in range(n_phases):\r\n",
    "    exp_str = 'experiment_' + str(ii)\r\n",
    "    dummy_exp = {\r\n",
    "        'instructions': [\r\n",
    "            ('rLx', [0], [phases[ii]]),\r\n",
    "            ('measure', [0], []),\r\n",
    "            ],\r\n",
    "            'num_wires': 4,\r\n",
    "            'shots': 12\r\n",
    "    }\r\n",
    "    job_payload[exp_str] = dummy_exp\r\n",
    "pprint(job_payload)\r\n"
   ]
  },
  {
   "cell_type": "markdown",
   "id": "602f1398",
   "metadata": {},
   "source": [
    "Send the job to the server via request.post(...)"
   ]
  },
  {
   "cell_type": "code",
   "execution_count": 17,
   "id": "c6911233",
   "metadata": {},
   "outputs": [
    {
     "name": "stdout",
     "output_type": "stream",
     "text": [
      "{\"job_id\": 52, \"status\": \"INITIALIZING\", \"detail\": \"Got your json.\"}\n"
     ]
    }
   ],
   "source": [
    "url= url_prefix + \"post_job/\"\r\n",
    "\r\n",
    "job_response = requests.post(url, data={'json':json.dumps(job_payload),'username': username,'password':password})\r\n",
    "job_id = (job_response.json())['job_id']\r\n",
    "print(job_response.text)"
   ]
  },
  {
   "cell_type": "markdown",
   "id": "76f2a2dd",
   "metadata": {},
   "source": [
    "Test if the job is completed"
   ]
  },
  {
   "cell_type": "code",
   "execution_count": 18,
   "id": "a8034f1a",
   "metadata": {},
   "outputs": [
    {
     "name": "stdout",
     "output_type": "stream",
     "text": [
      "{\"job_id\": 52, \"status\": \"DONE\", \"detail\": \"Got your json.; Passed json sanity check; Compilation done. Shots sent to solver\"}\n"
     ]
    }
   ],
   "source": [
    "status_payload = {'job_id': job_id}\r\n",
    "\r\n",
    "url= url_prefix + \"get_job_status/\"\r\n",
    "status_response = requests.get(url, params={'json':json.dumps(status_payload),'username': username,'password':password})\r\n",
    "\r\n",
    "print(status_response.text)"
   ]
  },
  {
   "cell_type": "markdown",
   "id": "a754e352",
   "metadata": {},
   "source": [
    "and obtain the results via requests.get(...)"
   ]
  },
  {
   "cell_type": "code",
   "execution_count": 19,
   "id": "61fe4d2a",
   "metadata": {},
   "outputs": [
    {
     "name": "stdout",
     "output_type": "stream",
     "text": [
      "{'backend_name': 'synqs_multi_qudit_simulator',\n",
      " 'backend_version': '0.0.1',\n",
      " 'header': {},\n",
      " 'job_id': 52,\n",
      " 'qobj_id': None,\n",
      " 'results': [{'data': {'memory': ['0',\n",
      "                                  '0',\n",
      "                                  '0',\n",
      "                                  '0',\n",
      "                                  '0',\n",
      "                                  '0',\n",
      "                                  '0',\n",
      "                                  '0',\n",
      "                                  '0',\n",
      "                                  '0',\n",
      "                                  '0',\n",
      "                                  '0']},\n",
      "              'header': {'extra metadata': 'None', 'name': 'MultiQudit'},\n",
      "              'shots': 12,\n",
      "              'success': True},\n",
      "             {'data': {'memory': ['0',\n",
      "                                  '0',\n",
      "                                  '0',\n",
      "                                  '0',\n",
      "                                  '0',\n",
      "                                  '1',\n",
      "                                  '1',\n",
      "                                  '0',\n",
      "                                  '0',\n",
      "                                  '1',\n",
      "                                  '0',\n",
      "                                  '0']},\n",
      "              'header': {'extra metadata': 'None', 'name': 'MultiQudit'},\n",
      "              'shots': 12,\n",
      "              'success': True},\n",
      "             {'data': {'memory': ['1',\n",
      "                                  '0',\n",
      "                                  '1',\n",
      "                                  '0',\n",
      "                                  '1',\n",
      "                                  '0',\n",
      "                                  '0',\n",
      "                                  '0',\n",
      "                                  '1',\n",
      "                                  '0',\n",
      "                                  '0',\n",
      "                                  '1']},\n",
      "              'header': {'extra metadata': 'None', 'name': 'MultiQudit'},\n",
      "              'shots': 12,\n",
      "              'success': True},\n",
      "             {'data': {'memory': ['0',\n",
      "                                  '0',\n",
      "                                  '1',\n",
      "                                  '0',\n",
      "                                  '0',\n",
      "                                  '1',\n",
      "                                  '0',\n",
      "                                  '0',\n",
      "                                  '0',\n",
      "                                  '1',\n",
      "                                  '1',\n",
      "                                  '1']},\n",
      "              'header': {'extra metadata': 'None', 'name': 'MultiQudit'},\n",
      "              'shots': 12,\n",
      "              'success': True},\n",
      "             {'data': {'memory': ['1',\n",
      "                                  '1',\n",
      "                                  '1',\n",
      "                                  '1',\n",
      "                                  '0',\n",
      "                                  '1',\n",
      "                                  '1',\n",
      "                                  '1',\n",
      "                                  '1',\n",
      "                                  '1',\n",
      "                                  '1',\n",
      "                                  '1']},\n",
      "              'header': {'extra metadata': 'None', 'name': 'MultiQudit'},\n",
      "              'shots': 12,\n",
      "              'success': True},\n",
      "             {'data': {'memory': ['1',\n",
      "                                  '1',\n",
      "                                  '1',\n",
      "                                  '1',\n",
      "                                  '1',\n",
      "                                  '1',\n",
      "                                  '1',\n",
      "                                  '1',\n",
      "                                  '1',\n",
      "                                  '1',\n",
      "                                  '1',\n",
      "                                  '1']},\n",
      "              'header': {'extra metadata': 'None', 'name': 'MultiQudit'},\n",
      "              'shots': 12,\n",
      "              'success': True},\n",
      "             {'data': {'memory': ['1',\n",
      "                                  '1',\n",
      "                                  '1',\n",
      "                                  '1',\n",
      "                                  '0',\n",
      "                                  '1',\n",
      "                                  '1',\n",
      "                                  '1',\n",
      "                                  '1',\n",
      "                                  '1',\n",
      "                                  '1',\n",
      "                                  '1']},\n",
      "              'header': {'extra metadata': 'None', 'name': 'MultiQudit'},\n",
      "              'shots': 12,\n",
      "              'success': True},\n",
      "             {'data': {'memory': ['1',\n",
      "                                  '1',\n",
      "                                  '1',\n",
      "                                  '1',\n",
      "                                  '0',\n",
      "                                  '1',\n",
      "                                  '1',\n",
      "                                  '0',\n",
      "                                  '1',\n",
      "                                  '0',\n",
      "                                  '1',\n",
      "                                  '1']},\n",
      "              'header': {'extra metadata': 'None', 'name': 'MultiQudit'},\n",
      "              'shots': 12,\n",
      "              'success': True},\n",
      "             {'data': {'memory': ['0',\n",
      "                                  '0',\n",
      "                                  '0',\n",
      "                                  '0',\n",
      "                                  '0',\n",
      "                                  '0',\n",
      "                                  '0',\n",
      "                                  '0',\n",
      "                                  '1',\n",
      "                                  '1',\n",
      "                                  '0',\n",
      "                                  '1']},\n",
      "              'header': {'extra metadata': 'None', 'name': 'MultiQudit'},\n",
      "              'shots': 12,\n",
      "              'success': True},\n",
      "             {'data': {'memory': ['0',\n",
      "                                  '0',\n",
      "                                  '0',\n",
      "                                  '0',\n",
      "                                  '0',\n",
      "                                  '0',\n",
      "                                  '0',\n",
      "                                  '0',\n",
      "                                  '0',\n",
      "                                  '0',\n",
      "                                  '0',\n",
      "                                  '0']},\n",
      "              'header': {'extra metadata': 'None', 'name': 'MultiQudit'},\n",
      "              'shots': 12,\n",
      "              'success': True},\n",
      "             {'data': {'memory': ['0',\n",
      "                                  '0',\n",
      "                                  '0',\n",
      "                                  '0',\n",
      "                                  '0',\n",
      "                                  '0',\n",
      "                                  '0',\n",
      "                                  '0',\n",
      "                                  '0',\n",
      "                                  '0',\n",
      "                                  '0',\n",
      "                                  '0']},\n",
      "              'header': {'extra metadata': 'None', 'name': 'MultiQudit'},\n",
      "              'shots': 12,\n",
      "              'success': True}],\n",
      " 'status': 'finished',\n",
      " 'success': True}\n"
     ]
    }
   ],
   "source": [
    "result_payload = {'job_id': job_id}\r\n",
    "\r\n",
    "url= url_prefix + \"get_job_result/\"\r\n",
    "result_response = requests.get(url, params={'json':json.dumps(result_payload),'username': username,'password':password})\r\n",
    "\r\n",
    "r_dict  = json.loads(result_response.text)\r\n",
    "pprint(r_dict)"
   ]
  },
  {
   "cell_type": "markdown",
   "id": "ffce9e46",
   "metadata": {},
   "source": [
    "The result of the calculation"
   ]
  },
  {
   "cell_type": "code",
   "execution_count": 20,
   "id": "1ad05d47",
   "metadata": {},
   "outputs": [],
   "source": [
    "measurements = []\r\n",
    "for res in r_dict[\"results\"]:\r\n",
    "    shots = np.array(res['data']['memory'])\r\n",
    "    shots = [shot.split(' ') for shot in shots]\r\n",
    "    #print(shots.shape)\r\n",
    "    for ii, el in enumerate(shots):\r\n",
    "        shots[ii] = [int(meas) for meas in el]\r\n",
    "    measurements.append(shots)\r\n",
    "    \r\n",
    "measurements = np.array(measurements)"
   ]
  },
  {
   "cell_type": "code",
   "execution_count": 21,
   "id": "6e60ba8f",
   "metadata": {},
   "outputs": [
    {
     "data": {
      "text/plain": [
       "Text(0.5, 0, '$\\\\phi_z$')"
      ]
     },
     "execution_count": 21,
     "metadata": {},
     "output_type": "execute_result"
    },
    {
     "data": {
      "image/png": "[encoded data removed]",
      "text/plain": [
       "<Figure size 432x288 with 1 Axes>"
      ]
     },
     "metadata": {
      "needs_background": "light"
     },
     "output_type": "display_data"
    }
   ],
   "source": [
    "f, ax = plt.subplots()\r\n",
    "ax.plot(phases, np.squeeze(np.array(measurements)), 'ro', alpha = 0.3)\r\n",
    "ax.plot(phases, 1*(1-np.cos(phases)), 'r-', lw = 3)\r\n",
    "ax.set_ylabel(r'$L_z + l$')\r\n",
    "ax.set_xlabel(r'$\\phi_z$')"
   ]
  },
  {
   "cell_type": "markdown",
   "id": "93d66acc",
   "metadata": {},
   "source": [
    "## Ramsey cycle\n",
    "\n",
    "The gate sequence for the Ramsey cycle is $e^{i (\\pi/2) L_x} e^{i \\varphi L_z} e^{i (\\pi/2) L_x}$"
   ]
  },
  {
   "cell_type": "code",
   "execution_count": 22,
   "id": "159af2a2",
   "metadata": {},
   "outputs": [
    {
     "name": "stdout",
     "output_type": "stream",
     "text": [
      "{'experiment_0': {'instructions': [('rLx', [3], [1.5707963267948966]),\n",
      "                                   ('rLz', [3], [0.0]),\n",
      "                                   ('rLx', [3], [1.5707963267948966]),\n",
      "                                   ('measure', [3], [])],\n",
      "                  'num_wires': 4,\n",
      "                  'shots': 5},\n",
      " 'experiment_1': {'instructions': [('rLx', [3], [1.5707963267948966]),\n",
      "                                   ('rLz', [3], [0.6283185307179586]),\n",
      "                                   ('rLx', [3], [1.5707963267948966]),\n",
      "                                   ('measure', [3], [])],\n",
      "                  'num_wires': 4,\n",
      "                  'shots': 5},\n",
      " 'experiment_10': {'instructions': [('rLx', [3], [1.5707963267948966]),\n",
      "                                    ('rLz', [3], [6.283185307179586]),\n",
      "                                    ('rLx', [3], [1.5707963267948966]),\n",
      "                                    ('measure', [3], [])],\n",
      "                   'num_wires': 4,\n",
      "                   'shots': 5},\n",
      " 'experiment_2': {'instructions': [('rLx', [3], [1.5707963267948966]),\n",
      "                                   ('rLz', [3], [1.2566370614359172]),\n",
      "                                   ('rLx', [3], [1.5707963267948966]),\n",
      "                                   ('measure', [3], [])],\n",
      "                  'num_wires': 4,\n",
      "                  'shots': 5},\n",
      " 'experiment_3': {'instructions': [('rLx', [3], [1.5707963267948966]),\n",
      "                                   ('rLz', [3], [1.8849555921538759]),\n",
      "                                   ('rLx', [3], [1.5707963267948966]),\n",
      "                                   ('measure', [3], [])],\n",
      "                  'num_wires': 4,\n",
      "                  'shots': 5},\n",
      " 'experiment_4': {'instructions': [('rLx', [3], [1.5707963267948966]),\n",
      "                                   ('rLz', [3], [2.5132741228718345]),\n",
      "                                   ('rLx', [3], [1.5707963267948966]),\n",
      "                                   ('measure', [3], [])],\n",
      "                  'num_wires': 4,\n",
      "                  'shots': 5},\n",
      " 'experiment_5': {'instructions': [('rLx', [3], [1.5707963267948966]),\n",
      "                                   ('rLz', [3], [3.141592653589793]),\n",
      "                                   ('rLx', [3], [1.5707963267948966]),\n",
      "                                   ('measure', [3], [])],\n",
      "                  'num_wires': 4,\n",
      "                  'shots': 5},\n",
      " 'experiment_6': {'instructions': [('rLx', [3], [1.5707963267948966]),\n",
      "                                   ('rLz', [3], [3.7699111843077517]),\n",
      "                                   ('rLx', [3], [1.5707963267948966]),\n",
      "                                   ('measure', [3], [])],\n",
      "                  'num_wires': 4,\n",
      "                  'shots': 5},\n",
      " 'experiment_7': {'instructions': [('rLx', [3], [1.5707963267948966]),\n",
      "                                   ('rLz', [3], [4.39822971502571]),\n",
      "                                   ('rLx', [3], [1.5707963267948966]),\n",
      "                                   ('measure', [3], [])],\n",
      "                  'num_wires': 4,\n",
      "                  'shots': 5},\n",
      " 'experiment_8': {'instructions': [('rLx', [3], [1.5707963267948966]),\n",
      "                                   ('rLz', [3], [5.026548245743669]),\n",
      "                                   ('rLx', [3], [1.5707963267948966]),\n",
      "                                   ('measure', [3], [])],\n",
      "                  'num_wires': 4,\n",
      "                  'shots': 5},\n",
      " 'experiment_9': {'instructions': [('rLx', [3], [1.5707963267948966]),\n",
      "                                   ('rLz', [3], [5.654866776461628]),\n",
      "                                   ('rLx', [3], [1.5707963267948966]),\n",
      "                                   ('measure', [3], [])],\n",
      "                  'num_wires': 4,\n",
      "                  'shots': 5}}\n"
     ]
    }
   ],
   "source": [
    "n_phases = 11 # number of phases we would like to investigate\r\n",
    "phases = np.linspace(0,2*np.pi,n_phases)\r\n",
    "job_payload = {}\r\n",
    "\r\n",
    "for ii in range(n_phases):\r\n",
    "    exp_str = 'experiment_' + str(ii)\r\n",
    "    dummy_exp = {\r\n",
    "        'instructions': [\r\n",
    "            ('rLx', [3], [np.pi/2]),\r\n",
    "            ('rLz', [3], [phases[ii]]),\r\n",
    "            ('rLx', [3], [np.pi/2]),\r\n",
    "            ('measure', [3], []),\r\n",
    "            ],\r\n",
    "            'num_wires': 4,\r\n",
    "            'shots': 5\r\n",
    "    }\r\n",
    "    job_payload[exp_str] = dummy_exp\r\n",
    "pprint(job_payload)"
   ]
  },
  {
   "cell_type": "markdown",
   "id": "20e4c502",
   "metadata": {},
   "source": [
    "we first send the job to the server"
   ]
  },
  {
   "cell_type": "code",
   "execution_count": 23,
   "id": "a974dcef",
   "metadata": {},
   "outputs": [
    {
     "name": "stdout",
     "output_type": "stream",
     "text": [
      "{\"job_id\": 53, \"status\": \"INITIALIZING\", \"detail\": \"Got your json.\"}\n"
     ]
    }
   ],
   "source": [
    "url= url_prefix + \"post_job/\"\r\n",
    "\r\n",
    "job_response = requests.post(url, data={'json':json.dumps(job_payload),'username': username,'password':password})\r\n",
    "job_id = (job_response.json())['job_id']\r\n",
    "print(job_response.text)"
   ]
  },
  {
   "cell_type": "markdown",
   "id": "9230a6b5",
   "metadata": {},
   "source": [
    "Test for completion."
   ]
  },
  {
   "cell_type": "code",
   "execution_count": 24,
   "id": "d5409f56",
   "metadata": {},
   "outputs": [
    {
     "name": "stdout",
     "output_type": "stream",
     "text": [
      "{\"job_id\": 53, \"status\": \"DONE\", \"detail\": \"Got your json.; Passed json sanity check; Compilation done. Shots sent to solver\"}\n"
     ]
    }
   ],
   "source": [
    "status_payload = {'job_id': job_id}\r\n",
    "url= url_prefix + \"get_job_status/\"\r\n",
    "\r\n",
    "status_response = requests.get(url, params={'json':json.dumps(status_payload),'username': username,'password':password})\r\n",
    "\r\n",
    "print(status_response.text)"
   ]
  },
  {
   "cell_type": "markdown",
   "id": "db6dfa53",
   "metadata": {},
   "source": [
    "Obtaining results"
   ]
  },
  {
   "cell_type": "code",
   "execution_count": 25,
   "id": "758b4a85",
   "metadata": {},
   "outputs": [
    {
     "name": "stdout",
     "output_type": "stream",
     "text": [
      "{'backend_name': 'synqs_multi_qudit_simulator',\n",
      " 'backend_version': '0.0.1',\n",
      " 'header': {},\n",
      " 'job_id': 53,\n",
      " 'qobj_id': None,\n",
      " 'results': [{'data': {'memory': ['1', '1', '1', '1', '1']},\n",
      "              'header': {'extra metadata': 'None', 'name': 'MultiQudit'},\n",
      "              'shots': 5,\n",
      "              'success': True},\n",
      "             {'data': {'memory': ['1', '1', '1', '1', '1']},\n",
      "              'header': {'extra metadata': 'None', 'name': 'MultiQudit'},\n",
      "              'shots': 5,\n",
      "              'success': True},\n",
      "             {'data': {'memory': ['1', '0', '0', '0', '1']},\n",
      "              'header': {'extra metadata': 'None', 'name': 'MultiQudit'},\n",
      "              'shots': 5,\n",
      "              'success': True},\n",
      "             {'data': {'memory': ['1', '1', '0', '0', '1']},\n",
      "              'header': {'extra metadata': 'None', 'name': 'MultiQudit'},\n",
      "              'shots': 5,\n",
      "              'success': True},\n",
      "             {'data': {'memory': ['0', '0', '0', '0', '0']},\n",
      "              'header': {'extra metadata': 'None', 'name': 'MultiQudit'},\n",
      "              'shots': 5,\n",
      "              'success': True},\n",
      "             {'data': {'memory': ['0', '0', '0', '0', '0']},\n",
      "              'header': {'extra metadata': 'None', 'name': 'MultiQudit'},\n",
      "              'shots': 5,\n",
      "              'success': True},\n",
      "             {'data': {'memory': ['1', '0', '0', '0', '0']},\n",
      "              'header': {'extra metadata': 'None', 'name': 'MultiQudit'},\n",
      "              'shots': 5,\n",
      "              'success': True},\n",
      "             {'data': {'memory': ['1', '0', '0', '1', '0']},\n",
      "              'header': {'extra metadata': 'None', 'name': 'MultiQudit'},\n",
      "              'shots': 5,\n",
      "              'success': True},\n",
      "             {'data': {'memory': ['1', '0', '1', '1', '1']},\n",
      "              'header': {'extra metadata': 'None', 'name': 'MultiQudit'},\n",
      "              'shots': 5,\n",
      "              'success': True},\n",
      "             {'data': {'memory': ['1', '1', '1', '1', '1']},\n",
      "              'header': {'extra metadata': 'None', 'name': 'MultiQudit'},\n",
      "              'shots': 5,\n",
      "              'success': True},\n",
      "             {'data': {'memory': ['1', '1', '1', '1', '1']},\n",
      "              'header': {'extra metadata': 'None', 'name': 'MultiQudit'},\n",
      "              'shots': 5,\n",
      "              'success': True}],\n",
      " 'status': 'finished',\n",
      " 'success': True}\n"
     ]
    }
   ],
   "source": [
    "result_payload = {'job_id': job_id}\r\n",
    "\r\n",
    "url= url_prefix + \"get_job_result/\"\r\n",
    "result_response = requests.get(url, params={'json':json.dumps(result_payload),'username': username,'password':password})\r\n",
    "\r\n",
    "r_dict  = json.loads(result_response.text)\r\n",
    "pprint(r_dict)"
   ]
  },
  {
   "cell_type": "markdown",
   "id": "aa0e6ece",
   "metadata": {},
   "source": [
    "The result of the Ramsey cycle is"
   ]
  },
  {
   "cell_type": "code",
   "execution_count": 26,
   "id": "86a1426c",
   "metadata": {},
   "outputs": [],
   "source": [
    "measurements = []\r\n",
    "for res in r_dict[\"results\"]:\r\n",
    "    shots = np.array(res['data']['memory'])\r\n",
    "    shots = [shot.split(' ') for shot in shots]\r\n",
    "    #print(shots.shape)\r\n",
    "    for ii, el in enumerate(shots):\r\n",
    "        shots[ii] = [int(meas) for meas in el]\r\n",
    "    measurements.append(shots)\r\n",
    "    \r\n",
    "measurements = np.array(measurements)"
   ]
  },
  {
   "cell_type": "code",
   "execution_count": 27,
   "id": "0984c606",
   "metadata": {},
   "outputs": [
    {
     "data": {
      "text/plain": [
       "Text(0.5, 0, '$\\\\phi_z$')"
      ]
     },
     "execution_count": 27,
     "metadata": {},
     "output_type": "execute_result"
    },
    {
     "data": {
      "image/png": "[encoded data removed]",
      "text/plain": [
       "<Figure size 432x288 with 1 Axes>"
      ]
     },
     "metadata": {
      "needs_background": "light"
     },
     "output_type": "display_data"
    }
   ],
   "source": [
    "\r\n",
    "f, ax = plt.subplots()\r\n",
    "ax.plot(phases, np.squeeze(np.array(measurements)), 'ro', alpha = 0.3)\r\n",
    "ax.plot(phases, 1*(1+np.cos(phases)), 'r-', lw = 3)\r\n",
    "ax.set_ylabel(r'$L_z + l$')\r\n",
    "ax.set_xlabel(r'$\\phi_z$')"
   ]
  },
  {
   "cell_type": "markdown",
   "id": "4adb8810",
   "metadata": {},
   "source": [
    "## Local entanglement of Qudits"
   ]
  },
  {
   "cell_type": "code",
   "execution_count": 58,
   "id": "c8e39dca-bb9c-4568-9a0a-5cd1cdf6bd3e",
   "metadata": {},
   "outputs": [],
   "source": [
    "job_payload = {\n",
    "    'experiment_0': {\n",
    "    'instructions': [\n",
    "        ('rLx', [0], [np.pi]),\n",
    "        ('LxLy',  [0, 3], [np.pi/2]),\n",
    "        ('measure', [0], []),\n",
    "        ('measure', [1], []),\n",
    "        ('measure', [3], []),\n",
    "        ],\n",
    "        'num_wires': 4,\n",
    "        'shots': 4\n",
    "    },\n",
    "}"
   ]
  },
  {
   "cell_type": "code",
   "execution_count": 59,
   "id": "8bae5b0a",
   "metadata": {},
   "outputs": [
    {
     "name": "stdout",
     "output_type": "stream",
     "text": [
      "{\"job_id\": 62, \"status\": \"INITIALIZING\", \"detail\": \"Got your json.\"}\n"
     ]
    }
   ],
   "source": [
    "url= url_prefix + \"post_job/\" \r\n",
    "\r\n",
    "job_response = requests.post(url, data={'json':json.dumps(job_payload),'username': username,'password':password})\r\n",
    "job_id = (job_response.json())['job_id']\r\n",
    "print(job_response.text)\r\n"
   ]
  },
  {
   "cell_type": "code",
   "execution_count": 60,
   "id": "dc45b744",
   "metadata": {},
   "outputs": [
    {
     "name": "stdout",
     "output_type": "stream",
     "text": [
      "{\"job_id\": 62, \"status\": \"DONE\", \"detail\": \"Got your json.; Passed json sanity check; Compilation done. Shots sent to solver\"}\n"
     ]
    }
   ],
   "source": [
    "status_payload = {'job_id': job_id}\r\n",
    "\r\n",
    "url= url_prefix + \"get_job_status/\" \r\n",
    "\r\n",
    "status_response = requests.get(url, params={'json':json.dumps(status_payload),'username': username,'password':password})\r\n",
    "\r\n",
    "print(status_response.text)"
   ]
  },
  {
   "cell_type": "code",
   "execution_count": 61,
   "id": "0c419187",
   "metadata": {},
   "outputs": [
    {
     "name": "stdout",
     "output_type": "stream",
     "text": [
      "{'backend_name': 'synqs_multi_qudit_simulator',\n",
      " 'backend_version': '0.0.1',\n",
      " 'header': {},\n",
      " 'job_id': 62,\n",
      " 'qobj_id': None,\n",
      " 'results': [{'data': {'memory': ['0 0 1', '0 0 1', '0 0 1', '0 0 1']},\n",
      "              'header': {'extra metadata': 'None', 'name': 'MultiQudit'},\n",
      "              'shots': 4,\n",
      "              'success': True}],\n",
      " 'status': 'finished',\n",
      " 'success': True}\n"
     ]
    }
   ],
   "source": [
    "result_payload = {'job_id': job_id}\r\n",
    "url= url_prefix + \"get_job_result/\" \r\n",
    "\r\n",
    "result_response = requests.get(url, params={'json':json.dumps(result_payload),'username': username,'password':password})\r\n",
    "\r\n",
    "r_dict  = json.loads(result_response.text)\r\n",
    "pprint(r_dict)"
   ]
  },
  {
   "cell_type": "markdown",
   "id": "595b1e3e",
   "metadata": {},
   "source": [
    "# Loading atoms into wires"
   ]
  },
  {
   "cell_type": "markdown",
   "id": "160a89b1",
   "metadata": {},
   "source": [
    "Load atoms in the tweezer"
   ]
  },
  {
   "cell_type": "code",
   "execution_count": 32,
   "id": "165fcbe2",
   "metadata": {},
   "outputs": [],
   "source": [
    "job_payload = {\r\n",
    "    'experiment_0': {\r\n",
    "    'instructions': [\r\n",
    "        ('load', [0], [1]),\r\n",
    "        ('load', [2], [2]),\r\n",
    "        ('load', [3], [3]),\r\n",
    "        ('load', [1], [4]),\r\n",
    "        ('rLx', [0], [np.pi]),\r\n",
    "        ('measure', [0], []),\r\n",
    "        ('measure', [3], []),\r\n",
    "        ],\r\n",
    "    'num_wires': 4,\r\n",
    "    'shots': 4\r\n",
    "    },\r\n",
    "}"
   ]
  },
  {
   "cell_type": "code",
   "execution_count": 33,
   "id": "fd8f6058",
   "metadata": {},
   "outputs": [
    {
     "name": "stdout",
     "output_type": "stream",
     "text": [
      "{\"job_id\": 55, \"status\": \"INITIALIZING\", \"detail\": \"Got your json.\"}\n"
     ]
    }
   ],
   "source": [
    "url= url_prefix + \"post_job/\" \r\n",
    "\r\n",
    "job_response = requests.post(url, data={'json':json.dumps(job_payload),'username': username,'password':password})\r\n",
    "job_id = (job_response.json())['job_id']\r\n",
    "print(job_response.text)"
   ]
  },
  {
   "cell_type": "code",
   "execution_count": 34,
   "id": "db4819bd",
   "metadata": {},
   "outputs": [
    {
     "name": "stdout",
     "output_type": "stream",
     "text": [
      "{\"backend_name\": \"synqs_multi_qudit_simulator\", \"backend_version\": \"0.0.1\", \"job_id\": 55, \"qobj_id\": null, \"success\": true, \"status\": \"finished\", \"header\": {}, \"results\": [{\"header\": {\"name\": \"MultiQudit\", \"extra metadata\": \"None\"}, \"shots\": 4, \"success\": true, \"data\": {\"memory\": [\"0 0\", \"0 0\", \"0 0\", \"0 0\"]}}]}\n"
     ]
    }
   ],
   "source": [
    "result_payload = {'job_id': job_id}\r\n",
    "url= url_prefix + \"get_job_result/\" \r\n",
    "\r\n",
    "result_response = requests.get(url, params={'json':json.dumps(result_payload),'username': username,'password':password})\r\n",
    "\r\n",
    "print(result_response.text)"
   ]
  },
  {
   "cell_type": "markdown",
   "id": "27372208",
   "metadata": {},
   "source": [
    "# ZZ gates into wires"
   ]
  },
  {
   "cell_type": "markdown",
   "id": "61be6e35",
   "metadata": {},
   "source": [
    "Load atoms in the tweezer"
   ]
  },
  {
   "cell_type": "code",
   "execution_count": 35,
   "id": "33d231e6",
   "metadata": {},
   "outputs": [],
   "source": [
    "job_payload = {\r\n",
    "    'experiment_0': {\r\n",
    "    'instructions': [\r\n",
    "        ('load', [0], [1]),\r\n",
    "        ('load', [2], [2]),\r\n",
    "        ('load', [3], [3]),\r\n",
    "        ('load', [1], [4]),\r\n",
    "        ('rLx',  [0], [np.pi]),\r\n",
    "        ('LzLz', [0, 3], [1.5]),\r\n",
    "        ('measure', [0], []),\r\n",
    "        ('measure', [3], []),\r\n",
    "        ],\r\n",
    "    'num_wires': 4,\r\n",
    "    'shots': 4\r\n",
    "    },\r\n",
    "}"
   ]
  },
  {
   "cell_type": "code",
   "execution_count": 36,
   "id": "9e85fda9",
   "metadata": {},
   "outputs": [
    {
     "name": "stdout",
     "output_type": "stream",
     "text": [
      "{\"job_id\": 56, \"status\": \"INITIALIZING\", \"detail\": \"Got your json.\"}\n"
     ]
    }
   ],
   "source": [
    "url= url_prefix + \"post_job/\" \r\n",
    "\r\n",
    "job_response = requests.post(url, data={'json':json.dumps(job_payload),'username': username,'password':password})\r\n",
    "job_id = (job_response.json())['job_id']\r\n",
    "print(job_response.text)"
   ]
  },
  {
   "cell_type": "code",
   "execution_count": 37,
   "id": "a7255c9e",
   "metadata": {},
   "outputs": [
    {
     "name": "stdout",
     "output_type": "stream",
     "text": [
      "{\"job_id\": 56, \"status\": \"ERROR\", \"detail\": \"Got your json.; Failed json sanity check. File will be deleted\"}\n"
     ]
    }
   ],
   "source": [
    "result_payload = {'job_id': job_id}\r\n",
    "url= url_prefix + \"get_job_result/\" \r\n",
    "\r\n",
    "result_response = requests.get(url, params={'json':json.dumps(result_payload),'username': username,'password':password})\r\n",
    "\r\n",
    "print(result_response.text)"
   ]
  },
  {
   "cell_type": "code",
   "execution_count": null,
   "id": "8f56584f",
   "metadata": {},
   "outputs": [],
   "source": []
  },
  {
   "cell_type": "code",
   "execution_count": null,
   "id": "e16710cb-8aab-4334-a00b-9ed9b1b3d110",
   "metadata": {},
   "outputs": [],
   "source": []
  }
 ],
 "metadata": {
  "interpreter": {
   "hash": "b3ba2566441a7c06988d0923437866b63cedc61552a5af99d1f4fb67d367b25f"
  },
  "kernelspec": {
   "display_name": "Python 3",
   "language": "python",
   "name": "python3"
  },
  "language_info": {
   "codemirror_mode": {
    "name": "ipython",
    "version": 3
   },
   "file_extension": ".py",
   "mimetype": "text/x-python",
   "name": "python",
   "nbconvert_exporter": "python",
   "pygments_lexer": "ipython3",
   "version": "3.9.5"
  }
 },
 "nbformat": 4,
 "nbformat_minor": 5
}
